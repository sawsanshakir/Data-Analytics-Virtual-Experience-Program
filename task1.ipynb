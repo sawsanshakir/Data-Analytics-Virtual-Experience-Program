{
 "cells": [
  {
   "cell_type": "code",
   "execution_count": 1,
   "metadata": {},
   "outputs": [
    {
     "data": {
      "text/html": [
       "<div>\n",
       "<style scoped>\n",
       "    .dataframe tbody tr th:only-of-type {\n",
       "        vertical-align: middle;\n",
       "    }\n",
       "\n",
       "    .dataframe tbody tr th {\n",
       "        vertical-align: top;\n",
       "    }\n",
       "\n",
       "    .dataframe thead th {\n",
       "        text-align: right;\n",
       "    }\n",
       "</style>\n",
       "<table border=\"1\" class=\"dataframe\">\n",
       "  <thead>\n",
       "    <tr style=\"text-align: right;\">\n",
       "      <th></th>\n",
       "      <th>LYLTY_CARD_NBR</th>\n",
       "      <th>LIFESTAGE</th>\n",
       "      <th>PREMIUM_CUSTOMER</th>\n",
       "    </tr>\n",
       "  </thead>\n",
       "  <tbody>\n",
       "    <tr>\n",
       "      <th>0</th>\n",
       "      <td>1000</td>\n",
       "      <td>YOUNG SINGLES/COUPLES</td>\n",
       "      <td>Premium</td>\n",
       "    </tr>\n",
       "    <tr>\n",
       "      <th>1</th>\n",
       "      <td>1002</td>\n",
       "      <td>YOUNG SINGLES/COUPLES</td>\n",
       "      <td>Mainstream</td>\n",
       "    </tr>\n",
       "    <tr>\n",
       "      <th>2</th>\n",
       "      <td>1003</td>\n",
       "      <td>YOUNG FAMILIES</td>\n",
       "      <td>Budget</td>\n",
       "    </tr>\n",
       "    <tr>\n",
       "      <th>3</th>\n",
       "      <td>1004</td>\n",
       "      <td>OLDER SINGLES/COUPLES</td>\n",
       "      <td>Mainstream</td>\n",
       "    </tr>\n",
       "    <tr>\n",
       "      <th>4</th>\n",
       "      <td>1005</td>\n",
       "      <td>MIDAGE SINGLES/COUPLES</td>\n",
       "      <td>Mainstream</td>\n",
       "    </tr>\n",
       "  </tbody>\n",
       "</table>\n",
       "</div>"
      ],
      "text/plain": [
       "   LYLTY_CARD_NBR               LIFESTAGE PREMIUM_CUSTOMER\n",
       "0            1000   YOUNG SINGLES/COUPLES          Premium\n",
       "1            1002   YOUNG SINGLES/COUPLES       Mainstream\n",
       "2            1003          YOUNG FAMILIES           Budget\n",
       "3            1004   OLDER SINGLES/COUPLES       Mainstream\n",
       "4            1005  MIDAGE SINGLES/COUPLES       Mainstream"
      ]
     },
     "execution_count": 1,
     "metadata": {},
     "output_type": "execute_result"
    }
   ],
   "source": [
    "import pandas as pd\n",
    "import numpy as np\n",
    "\n",
    "### read the purchase_behaviour dataset\n",
    "\n",
    "purchase_behaviour = pd.read_csv('QVI_purchase_behaviour.csv')\n",
    "\n",
    "purchase_behaviour.head()"
   ]
  },
  {
   "cell_type": "code",
   "execution_count": 2,
   "metadata": {},
   "outputs": [
    {
     "data": {
      "text/plain": [
       "(72637, 3)"
      ]
     },
     "execution_count": 2,
     "metadata": {},
     "output_type": "execute_result"
    }
   ],
   "source": [
    "purchase_behaviour.shape"
   ]
  },
  {
   "cell_type": "code",
   "execution_count": 3,
   "metadata": {},
   "outputs": [
    {
     "data": {
      "text/plain": [
       "LYLTY_CARD_NBR      0\n",
       "LIFESTAGE           0\n",
       "PREMIUM_CUSTOMER    0\n",
       "dtype: int64"
      ]
     },
     "execution_count": 3,
     "metadata": {},
     "output_type": "execute_result"
    }
   ],
   "source": [
    "### check if there is null value in dataset\n",
    "\n",
    "purchase_behaviour.isnull().sum()"
   ]
  },
  {
   "cell_type": "code",
   "execution_count": 4,
   "metadata": {},
   "outputs": [
    {
     "name": "stdout",
     "output_type": "stream",
     "text": [
      "<class 'pandas.core.frame.DataFrame'>\n",
      "RangeIndex: 72637 entries, 0 to 72636\n",
      "Data columns (total 3 columns):\n",
      " #   Column            Non-Null Count  Dtype \n",
      "---  ------            --------------  ----- \n",
      " 0   LYLTY_CARD_NBR    72637 non-null  int64 \n",
      " 1   LIFESTAGE         72637 non-null  object\n",
      " 2   PREMIUM_CUSTOMER  72637 non-null  object\n",
      "dtypes: int64(1), object(2)\n",
      "memory usage: 1.1+ MB\n"
     ]
    }
   ],
   "source": [
    "purchase_behaviour.info()"
   ]
  },
  {
   "cell_type": "code",
   "execution_count": 5,
   "metadata": {},
   "outputs": [
    {
     "data": {
      "text/html": [
       "<div>\n",
       "<style scoped>\n",
       "    .dataframe tbody tr th:only-of-type {\n",
       "        vertical-align: middle;\n",
       "    }\n",
       "\n",
       "    .dataframe tbody tr th {\n",
       "        vertical-align: top;\n",
       "    }\n",
       "\n",
       "    .dataframe thead th {\n",
       "        text-align: right;\n",
       "    }\n",
       "</style>\n",
       "<table border=\"1\" class=\"dataframe\">\n",
       "  <thead>\n",
       "    <tr style=\"text-align: right;\">\n",
       "      <th></th>\n",
       "      <th>DATE</th>\n",
       "      <th>STORE_NBR</th>\n",
       "      <th>LYLTY_CARD_NBR</th>\n",
       "      <th>TXN_ID</th>\n",
       "      <th>PROD_NBR</th>\n",
       "      <th>PROD_NAME</th>\n",
       "      <th>PROD_QTY</th>\n",
       "      <th>TOT_SALES</th>\n",
       "    </tr>\n",
       "  </thead>\n",
       "  <tbody>\n",
       "    <tr>\n",
       "      <th>0</th>\n",
       "      <td>43390</td>\n",
       "      <td>1</td>\n",
       "      <td>1000</td>\n",
       "      <td>1</td>\n",
       "      <td>5</td>\n",
       "      <td>Natural Chip        Compny SeaSalt175g</td>\n",
       "      <td>2</td>\n",
       "      <td>6.0</td>\n",
       "    </tr>\n",
       "    <tr>\n",
       "      <th>1</th>\n",
       "      <td>43599</td>\n",
       "      <td>1</td>\n",
       "      <td>1307</td>\n",
       "      <td>348</td>\n",
       "      <td>66</td>\n",
       "      <td>CCs Nacho Cheese    175g</td>\n",
       "      <td>3</td>\n",
       "      <td>6.3</td>\n",
       "    </tr>\n",
       "    <tr>\n",
       "      <th>2</th>\n",
       "      <td>43605</td>\n",
       "      <td>1</td>\n",
       "      <td>1343</td>\n",
       "      <td>383</td>\n",
       "      <td>61</td>\n",
       "      <td>Smiths Crinkle Cut  Chips Chicken 170g</td>\n",
       "      <td>2</td>\n",
       "      <td>2.9</td>\n",
       "    </tr>\n",
       "    <tr>\n",
       "      <th>3</th>\n",
       "      <td>43329</td>\n",
       "      <td>2</td>\n",
       "      <td>2373</td>\n",
       "      <td>974</td>\n",
       "      <td>69</td>\n",
       "      <td>Smiths Chip Thinly  S/Cream&amp;Onion 175g</td>\n",
       "      <td>5</td>\n",
       "      <td>15.0</td>\n",
       "    </tr>\n",
       "    <tr>\n",
       "      <th>4</th>\n",
       "      <td>43330</td>\n",
       "      <td>2</td>\n",
       "      <td>2426</td>\n",
       "      <td>1038</td>\n",
       "      <td>108</td>\n",
       "      <td>Kettle Tortilla ChpsHny&amp;Jlpno Chili 150g</td>\n",
       "      <td>3</td>\n",
       "      <td>13.8</td>\n",
       "    </tr>\n",
       "  </tbody>\n",
       "</table>\n",
       "</div>"
      ],
      "text/plain": [
       "    DATE  STORE_NBR  LYLTY_CARD_NBR  TXN_ID  PROD_NBR  \\\n",
       "0  43390          1            1000       1         5   \n",
       "1  43599          1            1307     348        66   \n",
       "2  43605          1            1343     383        61   \n",
       "3  43329          2            2373     974        69   \n",
       "4  43330          2            2426    1038       108   \n",
       "\n",
       "                                  PROD_NAME  PROD_QTY  TOT_SALES  \n",
       "0    Natural Chip        Compny SeaSalt175g         2        6.0  \n",
       "1                  CCs Nacho Cheese    175g         3        6.3  \n",
       "2    Smiths Crinkle Cut  Chips Chicken 170g         2        2.9  \n",
       "3    Smiths Chip Thinly  S/Cream&Onion 175g         5       15.0  \n",
       "4  Kettle Tortilla ChpsHny&Jlpno Chili 150g         3       13.8  "
      ]
     },
     "execution_count": 5,
     "metadata": {},
     "output_type": "execute_result"
    }
   ],
   "source": [
    "### read transaction dataset\n",
    "\n",
    "transaction_data = pd.read_csv('QVI_transaction_data.csv')\n",
    "transaction_data.head()"
   ]
  },
  {
   "cell_type": "code",
   "execution_count": 6,
   "metadata": {},
   "outputs": [
    {
     "data": {
      "text/plain": [
       "(264836, 8)"
      ]
     },
     "execution_count": 6,
     "metadata": {},
     "output_type": "execute_result"
    }
   ],
   "source": [
    "transaction_data.shape"
   ]
  },
  {
   "cell_type": "code",
   "execution_count": 7,
   "metadata": {},
   "outputs": [
    {
     "data": {
      "text/plain": [
       "DATE              0\n",
       "STORE_NBR         0\n",
       "LYLTY_CARD_NBR    0\n",
       "TXN_ID            0\n",
       "PROD_NBR          0\n",
       "PROD_NAME         0\n",
       "PROD_QTY          0\n",
       "TOT_SALES         0\n",
       "dtype: int64"
      ]
     },
     "execution_count": 7,
     "metadata": {},
     "output_type": "execute_result"
    }
   ],
   "source": [
    "### checking if there is null values\n",
    "\n",
    "transaction_data.isnull().sum()"
   ]
  },
  {
   "cell_type": "code",
   "execution_count": 8,
   "metadata": {},
   "outputs": [
    {
     "name": "stdout",
     "output_type": "stream",
     "text": [
      "<class 'pandas.core.frame.DataFrame'>\n",
      "RangeIndex: 264836 entries, 0 to 264835\n",
      "Data columns (total 8 columns):\n",
      " #   Column          Non-Null Count   Dtype  \n",
      "---  ------          --------------   -----  \n",
      " 0   DATE            264836 non-null  int64  \n",
      " 1   STORE_NBR       264836 non-null  int64  \n",
      " 2   LYLTY_CARD_NBR  264836 non-null  int64  \n",
      " 3   TXN_ID          264836 non-null  int64  \n",
      " 4   PROD_NBR        264836 non-null  int64  \n",
      " 5   PROD_NAME       264836 non-null  object \n",
      " 6   PROD_QTY        264836 non-null  int64  \n",
      " 7   TOT_SALES       264836 non-null  float64\n",
      "dtypes: float64(1), int64(6), object(1)\n",
      "memory usage: 15.2+ MB\n"
     ]
    }
   ],
   "source": [
    "## checking data type of each feature\n",
    "\n",
    "transaction_data.info()"
   ]
  },
  {
   "cell_type": "code",
   "execution_count": 9,
   "metadata": {},
   "outputs": [
    {
     "data": {
      "text/html": [
       "<div>\n",
       "<style scoped>\n",
       "    .dataframe tbody tr th:only-of-type {\n",
       "        vertical-align: middle;\n",
       "    }\n",
       "\n",
       "    .dataframe tbody tr th {\n",
       "        vertical-align: top;\n",
       "    }\n",
       "\n",
       "    .dataframe thead th {\n",
       "        text-align: right;\n",
       "    }\n",
       "</style>\n",
       "<table border=\"1\" class=\"dataframe\">\n",
       "  <thead>\n",
       "    <tr style=\"text-align: right;\">\n",
       "      <th></th>\n",
       "      <th>DATE</th>\n",
       "      <th>STORE_NBR</th>\n",
       "      <th>LYLTY_CARD_NBR</th>\n",
       "      <th>TXN_ID</th>\n",
       "      <th>PROD_NBR</th>\n",
       "      <th>PROD_QTY</th>\n",
       "      <th>TOT_SALES</th>\n",
       "    </tr>\n",
       "  </thead>\n",
       "  <tbody>\n",
       "    <tr>\n",
       "      <th>count</th>\n",
       "      <td>264836.000000</td>\n",
       "      <td>264836.00000</td>\n",
       "      <td>2.648360e+05</td>\n",
       "      <td>2.648360e+05</td>\n",
       "      <td>264836.000000</td>\n",
       "      <td>264836.000000</td>\n",
       "      <td>264836.000000</td>\n",
       "    </tr>\n",
       "    <tr>\n",
       "      <th>mean</th>\n",
       "      <td>43464.036260</td>\n",
       "      <td>135.08011</td>\n",
       "      <td>1.355495e+05</td>\n",
       "      <td>1.351583e+05</td>\n",
       "      <td>56.583157</td>\n",
       "      <td>1.907309</td>\n",
       "      <td>7.304200</td>\n",
       "    </tr>\n",
       "    <tr>\n",
       "      <th>std</th>\n",
       "      <td>105.389282</td>\n",
       "      <td>76.78418</td>\n",
       "      <td>8.057998e+04</td>\n",
       "      <td>7.813303e+04</td>\n",
       "      <td>32.826638</td>\n",
       "      <td>0.643654</td>\n",
       "      <td>3.083226</td>\n",
       "    </tr>\n",
       "    <tr>\n",
       "      <th>min</th>\n",
       "      <td>43282.000000</td>\n",
       "      <td>1.00000</td>\n",
       "      <td>1.000000e+03</td>\n",
       "      <td>1.000000e+00</td>\n",
       "      <td>1.000000</td>\n",
       "      <td>1.000000</td>\n",
       "      <td>1.500000</td>\n",
       "    </tr>\n",
       "    <tr>\n",
       "      <th>25%</th>\n",
       "      <td>43373.000000</td>\n",
       "      <td>70.00000</td>\n",
       "      <td>7.002100e+04</td>\n",
       "      <td>6.760150e+04</td>\n",
       "      <td>28.000000</td>\n",
       "      <td>2.000000</td>\n",
       "      <td>5.400000</td>\n",
       "    </tr>\n",
       "    <tr>\n",
       "      <th>50%</th>\n",
       "      <td>43464.000000</td>\n",
       "      <td>130.00000</td>\n",
       "      <td>1.303575e+05</td>\n",
       "      <td>1.351375e+05</td>\n",
       "      <td>56.000000</td>\n",
       "      <td>2.000000</td>\n",
       "      <td>7.400000</td>\n",
       "    </tr>\n",
       "    <tr>\n",
       "      <th>75%</th>\n",
       "      <td>43555.000000</td>\n",
       "      <td>203.00000</td>\n",
       "      <td>2.030942e+05</td>\n",
       "      <td>2.027012e+05</td>\n",
       "      <td>85.000000</td>\n",
       "      <td>2.000000</td>\n",
       "      <td>9.200000</td>\n",
       "    </tr>\n",
       "    <tr>\n",
       "      <th>max</th>\n",
       "      <td>43646.000000</td>\n",
       "      <td>272.00000</td>\n",
       "      <td>2.373711e+06</td>\n",
       "      <td>2.415841e+06</td>\n",
       "      <td>114.000000</td>\n",
       "      <td>200.000000</td>\n",
       "      <td>650.000000</td>\n",
       "    </tr>\n",
       "  </tbody>\n",
       "</table>\n",
       "</div>"
      ],
      "text/plain": [
       "                DATE     STORE_NBR  LYLTY_CARD_NBR        TXN_ID  \\\n",
       "count  264836.000000  264836.00000    2.648360e+05  2.648360e+05   \n",
       "mean    43464.036260     135.08011    1.355495e+05  1.351583e+05   \n",
       "std       105.389282      76.78418    8.057998e+04  7.813303e+04   \n",
       "min     43282.000000       1.00000    1.000000e+03  1.000000e+00   \n",
       "25%     43373.000000      70.00000    7.002100e+04  6.760150e+04   \n",
       "50%     43464.000000     130.00000    1.303575e+05  1.351375e+05   \n",
       "75%     43555.000000     203.00000    2.030942e+05  2.027012e+05   \n",
       "max     43646.000000     272.00000    2.373711e+06  2.415841e+06   \n",
       "\n",
       "            PROD_NBR       PROD_QTY      TOT_SALES  \n",
       "count  264836.000000  264836.000000  264836.000000  \n",
       "mean       56.583157       1.907309       7.304200  \n",
       "std        32.826638       0.643654       3.083226  \n",
       "min         1.000000       1.000000       1.500000  \n",
       "25%        28.000000       2.000000       5.400000  \n",
       "50%        56.000000       2.000000       7.400000  \n",
       "75%        85.000000       2.000000       9.200000  \n",
       "max       114.000000     200.000000     650.000000  "
      ]
     },
     "execution_count": 9,
     "metadata": {},
     "output_type": "execute_result"
    }
   ],
   "source": [
    "\n",
    "transaction_data.describe()"
   ]
  },
  {
   "cell_type": "code",
   "execution_count": 10,
   "metadata": {},
   "outputs": [
    {
     "data": {
      "text/html": [
       "<div>\n",
       "<style scoped>\n",
       "    .dataframe tbody tr th:only-of-type {\n",
       "        vertical-align: middle;\n",
       "    }\n",
       "\n",
       "    .dataframe tbody tr th {\n",
       "        vertical-align: top;\n",
       "    }\n",
       "\n",
       "    .dataframe thead th {\n",
       "        text-align: right;\n",
       "    }\n",
       "</style>\n",
       "<table border=\"1\" class=\"dataframe\">\n",
       "  <thead>\n",
       "    <tr style=\"text-align: right;\">\n",
       "      <th></th>\n",
       "      <th>DATE</th>\n",
       "      <th>STORE_NBR</th>\n",
       "      <th>LYLTY_CARD_NBR</th>\n",
       "      <th>TXN_ID</th>\n",
       "      <th>PROD_NBR</th>\n",
       "      <th>PROD_NAME</th>\n",
       "      <th>PROD_QTY</th>\n",
       "      <th>TOT_SALES</th>\n",
       "    </tr>\n",
       "  </thead>\n",
       "  <tbody>\n",
       "    <tr>\n",
       "      <th>0</th>\n",
       "      <td>2018-10-17</td>\n",
       "      <td>1</td>\n",
       "      <td>1000</td>\n",
       "      <td>1</td>\n",
       "      <td>5</td>\n",
       "      <td>Natural Chip        Compny SeaSalt175g</td>\n",
       "      <td>2</td>\n",
       "      <td>6.0</td>\n",
       "    </tr>\n",
       "    <tr>\n",
       "      <th>1</th>\n",
       "      <td>2019-05-14</td>\n",
       "      <td>1</td>\n",
       "      <td>1307</td>\n",
       "      <td>348</td>\n",
       "      <td>66</td>\n",
       "      <td>CCs Nacho Cheese    175g</td>\n",
       "      <td>3</td>\n",
       "      <td>6.3</td>\n",
       "    </tr>\n",
       "    <tr>\n",
       "      <th>2</th>\n",
       "      <td>2019-05-20</td>\n",
       "      <td>1</td>\n",
       "      <td>1343</td>\n",
       "      <td>383</td>\n",
       "      <td>61</td>\n",
       "      <td>Smiths Crinkle Cut  Chips Chicken 170g</td>\n",
       "      <td>2</td>\n",
       "      <td>2.9</td>\n",
       "    </tr>\n",
       "    <tr>\n",
       "      <th>3</th>\n",
       "      <td>2018-08-17</td>\n",
       "      <td>2</td>\n",
       "      <td>2373</td>\n",
       "      <td>974</td>\n",
       "      <td>69</td>\n",
       "      <td>Smiths Chip Thinly  S/Cream&amp;Onion 175g</td>\n",
       "      <td>5</td>\n",
       "      <td>15.0</td>\n",
       "    </tr>\n",
       "    <tr>\n",
       "      <th>4</th>\n",
       "      <td>2018-08-18</td>\n",
       "      <td>2</td>\n",
       "      <td>2426</td>\n",
       "      <td>1038</td>\n",
       "      <td>108</td>\n",
       "      <td>Kettle Tortilla ChpsHny&amp;Jlpno Chili 150g</td>\n",
       "      <td>3</td>\n",
       "      <td>13.8</td>\n",
       "    </tr>\n",
       "  </tbody>\n",
       "</table>\n",
       "</div>"
      ],
      "text/plain": [
       "        DATE  STORE_NBR  LYLTY_CARD_NBR  TXN_ID  PROD_NBR  \\\n",
       "0 2018-10-17          1            1000       1         5   \n",
       "1 2019-05-14          1            1307     348        66   \n",
       "2 2019-05-20          1            1343     383        61   \n",
       "3 2018-08-17          2            2373     974        69   \n",
       "4 2018-08-18          2            2426    1038       108   \n",
       "\n",
       "                                  PROD_NAME  PROD_QTY  TOT_SALES  \n",
       "0    Natural Chip        Compny SeaSalt175g         2        6.0  \n",
       "1                  CCs Nacho Cheese    175g         3        6.3  \n",
       "2    Smiths Crinkle Cut  Chips Chicken 170g         2        2.9  \n",
       "3    Smiths Chip Thinly  S/Cream&Onion 175g         5       15.0  \n",
       "4  Kettle Tortilla ChpsHny&Jlpno Chili 150g         3       13.8  "
      ]
     },
     "execution_count": 10,
     "metadata": {},
     "output_type": "execute_result"
    }
   ],
   "source": [
    "## convert the DATE column from intger to date_time data type\n",
    "\n",
    "import datetime\n",
    "transaction_data['DATE'] = transaction_data['DATE'].apply(lambda x: pd.Timestamp('1899-12-30') + pd.DateOffset(x))\n",
    "transaction_data.head()"
   ]
  },
  {
   "cell_type": "code",
   "execution_count": 11,
   "metadata": {},
   "outputs": [
    {
     "name": "stdout",
     "output_type": "stream",
     "text": [
      "             DATE  STORE_NBR  LYLTY_CARD_NBR  TXN_ID  PROD_NBR  \\\n",
      "32     2019-05-20         45           45127   41122        64   \n",
      "189    2018-08-19        257          257168  256776        64   \n",
      "222    2019-06-08          2            2203     806        64   \n",
      "317    2019-03-30          5            5050    4671        64   \n",
      "397    2018-10-17          9            9450    8955        64   \n",
      "...           ...        ...             ...     ...       ...   \n",
      "263924 2018-09-18         77           77099   75018        64   \n",
      "263986 2019-05-02        236          236027  238695        64   \n",
      "264516 2018-09-29        258          258321  257374        64   \n",
      "264604 2019-01-07        262          262001  261328        64   \n",
      "264780 2019-01-10        269          269222  266382        64   \n",
      "\n",
      "                                       PROD_NAME  PROD_QTY  TOT_SALES  \n",
      "32      Red Rock Deli SR    Salsa & Mzzrlla 150g         2        5.4  \n",
      "189     Red Rock Deli SR    Salsa & Mzzrlla 150g         2        5.4  \n",
      "222     Red Rock Deli SR    Salsa & Mzzrlla 150g         1        2.7  \n",
      "317     Red Rock Deli SR    Salsa & Mzzrlla 150g         2        5.4  \n",
      "397     Red Rock Deli SR    Salsa & Mzzrlla 150g         1        2.7  \n",
      "...                                          ...       ...        ...  \n",
      "263924  Red Rock Deli SR    Salsa & Mzzrlla 150g         2        5.4  \n",
      "263986  Red Rock Deli SR    Salsa & Mzzrlla 150g         2        5.4  \n",
      "264516  Red Rock Deli SR    Salsa & Mzzrlla 150g         2        5.4  \n",
      "264604  Red Rock Deli SR    Salsa & Mzzrlla 150g         2        5.4  \n",
      "264780  Red Rock Deli SR    Salsa & Mzzrlla 150g         2        5.4  \n",
      "\n",
      "[1458 rows x 8 columns]\n"
     ]
    }
   ],
   "source": [
    "## extract 'Red Rock Deli SR' brand chips\n",
    "\n",
    "chips_salsa = transaction_data[transaction_data['PROD_NAME'].str.contains(\"Red Rock Deli SR\")]\n",
    "print(chips_salsa)"
   ]
  },
  {
   "cell_type": "code",
   "execution_count": 12,
   "metadata": {},
   "outputs": [
    {
     "data": {
      "text/plain": [
       "(18094, 8)"
      ]
     },
     "execution_count": 12,
     "metadata": {},
     "output_type": "execute_result"
    }
   ],
   "source": [
    "## extract all products of salsa \n",
    "\n",
    "salsa_prod = transaction_data[transaction_data['PROD_NAME'].str.contains(\"Salsa | Dip\")] \n",
    "salsa_prod.shape\n"
   ]
  },
  {
   "cell_type": "code",
   "execution_count": 13,
   "metadata": {},
   "outputs": [
    {
     "name": "stdout",
     "output_type": "stream",
     "text": [
      "             DATE  STORE_NBR  LYLTY_CARD_NBR  TXN_ID  PROD_NBR  \\\n",
      "5      2019-05-19          4            4074    2982        57   \n",
      "25     2019-05-15         39           39144   35506        57   \n",
      "44     2018-08-18         56           56013   50090        39   \n",
      "63     2019-05-15         82           82480   82047       101   \n",
      "71     2018-08-15         94           94233   93956        65   \n",
      "...           ...        ...             ...     ...       ...   \n",
      "264663 2018-08-24        265          265018  263318       101   \n",
      "264675 2019-04-20        265          265103  263419        59   \n",
      "264678 2019-03-30        265          265111  263428        35   \n",
      "264719 2018-10-28        266          266278  264104        39   \n",
      "264734 2019-01-11        267          267324  264374        41   \n",
      "\n",
      "                                       PROD_NAME  PROD_QTY  TOT_SALES  \n",
      "5       Old El Paso Salsa   Dip Tomato Mild 300g         1        5.1  \n",
      "25      Old El Paso Salsa   Dip Tomato Mild 300g         1        5.1  \n",
      "44         Smiths Crinkle Cut  Tomato Salsa 150g         1        2.6  \n",
      "63               Doritos Salsa       Medium 300g         1        2.6  \n",
      "71      Old El Paso Salsa   Dip Chnky Tom Ht300g         1        5.1  \n",
      "...                                          ...       ...        ...  \n",
      "264663           Doritos Salsa       Medium 300g         1        2.6  \n",
      "264675   Old El Paso Salsa   Dip Tomato Med 300g         1        5.1  \n",
      "264678            Woolworths Mild     Salsa 300g         1        1.5  \n",
      "264719     Smiths Crinkle Cut  Tomato Salsa 150g         1        2.6  \n",
      "264734                  Doritos Salsa Mild  300g         1        2.6  \n",
      "\n",
      "[16636 rows x 8 columns]\n"
     ]
    }
   ],
   "source": [
    "## remove 'Red Rock Deli SR'chips as it has salsa word but it is chips not salsa\n",
    "\n",
    "salsa_prod = pd.concat([salsa_prod, chips_salsa]).drop_duplicates(keep=False)\n",
    "print(salsa_prod)"
   ]
  },
  {
   "cell_type": "code",
   "execution_count": 14,
   "metadata": {},
   "outputs": [
    {
     "name": "stdout",
     "output_type": "stream",
     "text": [
      "             DATE  STORE_NBR  LYLTY_CARD_NBR  TXN_ID  PROD_NBR  \\\n",
      "0      2018-10-17          1            1000       1         5   \n",
      "1      2019-05-14          1            1307     348        66   \n",
      "2      2019-05-20          1            1343     383        61   \n",
      "3      2018-08-17          2            2373     974        69   \n",
      "4      2018-08-18          2            2426    1038       108   \n",
      "...           ...        ...             ...     ...       ...   \n",
      "264831 2019-03-09        272          272319  270088        89   \n",
      "264832 2018-08-13        272          272358  270154        74   \n",
      "264833 2018-11-06        272          272379  270187        51   \n",
      "264834 2018-12-27        272          272379  270188        42   \n",
      "264835 2018-09-22        272          272380  270189        74   \n",
      "\n",
      "                                       PROD_NAME  PROD_QTY  TOT_SALES  \n",
      "0         Natural Chip        Compny SeaSalt175g         2        6.0  \n",
      "1                       CCs Nacho Cheese    175g         3        6.3  \n",
      "2         Smiths Crinkle Cut  Chips Chicken 170g         2        2.9  \n",
      "3         Smiths Chip Thinly  S/Cream&Onion 175g         5       15.0  \n",
      "4       Kettle Tortilla ChpsHny&Jlpno Chili 150g         3       13.8  \n",
      "...                                          ...       ...        ...  \n",
      "264831   Kettle Sweet Chilli And Sour Cream 175g         2       10.8  \n",
      "264832             Tostitos Splash Of  Lime 175g         1        4.4  \n",
      "264833                  Doritos Mexicana    170g         2        8.8  \n",
      "264834   Doritos Corn Chip Mexican Jalapeno 150g         2        7.8  \n",
      "264835             Tostitos Splash Of  Lime 175g         2        8.8  \n",
      "\n",
      "[248198 rows x 8 columns]\n"
     ]
    }
   ],
   "source": [
    "### Drop all salsa products from the transaction dataset\n",
    "\n",
    "transaction_data = pd.concat([transaction_data, salsa_prod]).drop_duplicates(keep=False)\n",
    "print(transaction_data)"
   ]
  },
  {
   "cell_type": "code",
   "execution_count": 15,
   "metadata": {},
   "outputs": [
    {
     "data": {
      "text/html": [
       "<div>\n",
       "<style scoped>\n",
       "    .dataframe tbody tr th:only-of-type {\n",
       "        vertical-align: middle;\n",
       "    }\n",
       "\n",
       "    .dataframe tbody tr th {\n",
       "        vertical-align: top;\n",
       "    }\n",
       "\n",
       "    .dataframe thead th {\n",
       "        text-align: right;\n",
       "    }\n",
       "</style>\n",
       "<table border=\"1\" class=\"dataframe\">\n",
       "  <thead>\n",
       "    <tr style=\"text-align: right;\">\n",
       "      <th></th>\n",
       "      <th>STORE_NBR</th>\n",
       "      <th>LYLTY_CARD_NBR</th>\n",
       "      <th>TXN_ID</th>\n",
       "      <th>PROD_NBR</th>\n",
       "      <th>PROD_QTY</th>\n",
       "      <th>TOT_SALES</th>\n",
       "    </tr>\n",
       "  </thead>\n",
       "  <tbody>\n",
       "    <tr>\n",
       "      <th>count</th>\n",
       "      <td>248198.000000</td>\n",
       "      <td>2.481980e+05</td>\n",
       "      <td>2.481980e+05</td>\n",
       "      <td>248198.000000</td>\n",
       "      <td>248198.000000</td>\n",
       "      <td>248198.000000</td>\n",
       "    </tr>\n",
       "    <tr>\n",
       "      <th>mean</th>\n",
       "      <td>135.057108</td>\n",
       "      <td>1.355351e+05</td>\n",
       "      <td>1.351369e+05</td>\n",
       "      <td>56.396808</td>\n",
       "      <td>1.907953</td>\n",
       "      <td>7.308295</td>\n",
       "    </tr>\n",
       "    <tr>\n",
       "      <th>std</th>\n",
       "      <td>76.783297</td>\n",
       "      <td>8.068914e+04</td>\n",
       "      <td>7.814268e+04</td>\n",
       "      <td>33.601516</td>\n",
       "      <td>0.658480</td>\n",
       "      <td>3.074382</td>\n",
       "    </tr>\n",
       "    <tr>\n",
       "      <th>min</th>\n",
       "      <td>1.000000</td>\n",
       "      <td>1.000000e+03</td>\n",
       "      <td>1.000000e+00</td>\n",
       "      <td>1.000000</td>\n",
       "      <td>1.000000</td>\n",
       "      <td>1.700000</td>\n",
       "    </tr>\n",
       "    <tr>\n",
       "      <th>25%</th>\n",
       "      <td>70.000000</td>\n",
       "      <td>7.001800e+04</td>\n",
       "      <td>6.758525e+04</td>\n",
       "      <td>27.000000</td>\n",
       "      <td>2.000000</td>\n",
       "      <td>5.800000</td>\n",
       "    </tr>\n",
       "    <tr>\n",
       "      <th>50%</th>\n",
       "      <td>130.000000</td>\n",
       "      <td>1.303670e+05</td>\n",
       "      <td>1.351845e+05</td>\n",
       "      <td>53.000000</td>\n",
       "      <td>2.000000</td>\n",
       "      <td>7.400000</td>\n",
       "    </tr>\n",
       "    <tr>\n",
       "      <th>75%</th>\n",
       "      <td>203.000000</td>\n",
       "      <td>2.030858e+05</td>\n",
       "      <td>2.026610e+05</td>\n",
       "      <td>87.000000</td>\n",
       "      <td>2.000000</td>\n",
       "      <td>8.800000</td>\n",
       "    </tr>\n",
       "    <tr>\n",
       "      <th>max</th>\n",
       "      <td>272.000000</td>\n",
       "      <td>2.373711e+06</td>\n",
       "      <td>2.415841e+06</td>\n",
       "      <td>114.000000</td>\n",
       "      <td>200.000000</td>\n",
       "      <td>650.000000</td>\n",
       "    </tr>\n",
       "  </tbody>\n",
       "</table>\n",
       "</div>"
      ],
      "text/plain": [
       "           STORE_NBR  LYLTY_CARD_NBR        TXN_ID       PROD_NBR  \\\n",
       "count  248198.000000    2.481980e+05  2.481980e+05  248198.000000   \n",
       "mean      135.057108    1.355351e+05  1.351369e+05      56.396808   \n",
       "std        76.783297    8.068914e+04  7.814268e+04      33.601516   \n",
       "min         1.000000    1.000000e+03  1.000000e+00       1.000000   \n",
       "25%        70.000000    7.001800e+04  6.758525e+04      27.000000   \n",
       "50%       130.000000    1.303670e+05  1.351845e+05      53.000000   \n",
       "75%       203.000000    2.030858e+05  2.026610e+05      87.000000   \n",
       "max       272.000000    2.373711e+06  2.415841e+06     114.000000   \n",
       "\n",
       "            PROD_QTY      TOT_SALES  \n",
       "count  248198.000000  248198.000000  \n",
       "mean        1.907953       7.308295  \n",
       "std         0.658480       3.074382  \n",
       "min         1.000000       1.700000  \n",
       "25%         2.000000       5.800000  \n",
       "50%         2.000000       7.400000  \n",
       "75%         2.000000       8.800000  \n",
       "max       200.000000     650.000000  "
      ]
     },
     "execution_count": 15,
     "metadata": {},
     "output_type": "execute_result"
    }
   ],
   "source": [
    "transaction_data.describe()"
   ]
  },
  {
   "cell_type": "code",
   "execution_count": 16,
   "metadata": {},
   "outputs": [
    {
     "data": {
      "text/plain": [
       "<function matplotlib.pyplot.show(*args, **kw)>"
      ]
     },
     "execution_count": 16,
     "metadata": {},
     "output_type": "execute_result"
    },
    {
     "data": {
      "image/png": "[encoded data removed]",
      "text/plain": [
       "<Figure size 432x288 with 1 Axes>"
      ]
     },
     "metadata": {
      "needs_background": "light"
     },
     "output_type": "display_data"
    }
   ],
   "source": [
    "### checking the outliers for total sales features\n",
    "\n",
    "import matplotlib.pyplot as plt\n",
    "\n",
    "fig1, ax1 = plt.subplots()\n",
    "\n",
    "ax1.set_title('Basic Plot')\n",
    "\n",
    "ax1.boxplot(transaction_data['TOT_SALES'])\n",
    "plt.show"
   ]
  },
  {
   "cell_type": "code",
   "execution_count": 17,
   "metadata": {},
   "outputs": [
    {
     "data": {
      "text/plain": [
       "<function matplotlib.pyplot.show(*args, **kw)>"
      ]
     },
     "execution_count": 17,
     "metadata": {},
     "output_type": "execute_result"
    },
    {
     "data": {
      "image/png": "[encoded data removed]",
      "text/plain": [
       "<Figure size 432x288 with 1 Axes>"
      ]
     },
     "metadata": {
      "needs_background": "light"
     },
     "output_type": "display_data"
    }
   ],
   "source": [
    "### checking the outliers for product qantity features\n",
    "\n",
    "\n",
    "fig1, ax1 = plt.subplots()\n",
    "\n",
    "ax1.set_title('Basic Plot')\n",
    "\n",
    "ax1.boxplot(transaction_data['PROD_QTY'])\n",
    "plt.show"
   ]
  },
  {
   "cell_type": "code",
   "execution_count": 18,
   "metadata": {},
   "outputs": [
    {
     "data": {
      "text/html": [
       "<div>\n",
       "<style scoped>\n",
       "    .dataframe tbody tr th:only-of-type {\n",
       "        vertical-align: middle;\n",
       "    }\n",
       "\n",
       "    .dataframe tbody tr th {\n",
       "        vertical-align: top;\n",
       "    }\n",
       "\n",
       "    .dataframe thead th {\n",
       "        text-align: right;\n",
       "    }\n",
       "</style>\n",
       "<table border=\"1\" class=\"dataframe\">\n",
       "  <thead>\n",
       "    <tr style=\"text-align: right;\">\n",
       "      <th></th>\n",
       "      <th>DATE</th>\n",
       "      <th>STORE_NBR</th>\n",
       "      <th>LYLTY_CARD_NBR</th>\n",
       "      <th>TXN_ID</th>\n",
       "      <th>PROD_NBR</th>\n",
       "      <th>PROD_NAME</th>\n",
       "      <th>PROD_QTY</th>\n",
       "      <th>TOT_SALES</th>\n",
       "    </tr>\n",
       "  </thead>\n",
       "  <tbody>\n",
       "    <tr>\n",
       "      <th>69762</th>\n",
       "      <td>2018-08-19</td>\n",
       "      <td>226</td>\n",
       "      <td>226000</td>\n",
       "      <td>226201</td>\n",
       "      <td>4</td>\n",
       "      <td>Dorito Corn Chp     Supreme 380g</td>\n",
       "      <td>200</td>\n",
       "      <td>650.0</td>\n",
       "    </tr>\n",
       "    <tr>\n",
       "      <th>69763</th>\n",
       "      <td>2019-05-20</td>\n",
       "      <td>226</td>\n",
       "      <td>226000</td>\n",
       "      <td>226210</td>\n",
       "      <td>4</td>\n",
       "      <td>Dorito Corn Chp     Supreme 380g</td>\n",
       "      <td>200</td>\n",
       "      <td>650.0</td>\n",
       "    </tr>\n",
       "  </tbody>\n",
       "</table>\n",
       "</div>"
      ],
      "text/plain": [
       "            DATE  STORE_NBR  LYLTY_CARD_NBR  TXN_ID  PROD_NBR  \\\n",
       "69762 2018-08-19        226          226000  226201         4   \n",
       "69763 2019-05-20        226          226000  226210         4   \n",
       "\n",
       "                              PROD_NAME  PROD_QTY  TOT_SALES  \n",
       "69762  Dorito Corn Chp     Supreme 380g       200      650.0  \n",
       "69763  Dorito Corn Chp     Supreme 380g       200      650.0  "
      ]
     },
     "execution_count": 18,
     "metadata": {},
     "output_type": "execute_result"
    }
   ],
   "source": [
    "### drop the two transaction which are outliers with tatal sales 200 \n",
    "\n",
    "transaction_data[transaction_data['PROD_QTY'] == 200]"
   ]
  },
  {
   "cell_type": "code",
   "execution_count": 19,
   "metadata": {},
   "outputs": [],
   "source": [
    "transaction_data = transaction_data.drop(transaction_data[transaction_data['PROD_QTY'] == 200].index)\n",
    "\n",
    "purchase_behaviour = purchase_behaviour.drop(purchase_behaviour[purchase_behaviour['LYLTY_CARD_NBR'] == 226000].index)\n",
    "\n"
   ]
  },
  {
   "cell_type": "code",
   "execution_count": 20,
   "metadata": {},
   "outputs": [
    {
     "data": {
      "text/plain": [
       "<function matplotlib.pyplot.show(*args, **kw)>"
      ]
     },
     "execution_count": 20,
     "metadata": {},
     "output_type": "execute_result"
    },
    {
     "data": {
      "image/png": "[encoded data removed]",
      "text/plain": [
       "<Figure size 432x288 with 1 Axes>"
      ]
     },
     "metadata": {
      "needs_background": "light"
     },
     "output_type": "display_data"
    }
   ],
   "source": [
    "fig1, ax1 = plt.subplots()\n",
    "\n",
    "#ax1.set_title('Basic Plot')\n",
    "\n",
    "ax1.boxplot(transaction_data['PROD_QTY'])\n",
    "plt.show"
   ]
  },
  {
   "cell_type": "code",
   "execution_count": 21,
   "metadata": {},
   "outputs": [
    {
     "data": {
      "text/plain": [
       "<function matplotlib.pyplot.show(*args, **kw)>"
      ]
     },
     "execution_count": 21,
     "metadata": {},
     "output_type": "execute_result"
    },
    {
     "data": {
      "image/png": "[encoded data removed]",
      "text/plain": [
       "<Figure size 432x288 with 1 Axes>"
      ]
     },
     "metadata": {
      "needs_background": "light"
     },
     "output_type": "display_data"
    }
   ],
   "source": [
    "import matplotlib.pyplot as plt\n",
    "\n",
    "fig1, ax1 = plt.subplots()\n",
    "\n",
    "#ax1.set_title('Basic Plot')\n",
    "\n",
    "ax1.boxplot(transaction_data['TOT_SALES'])\n",
    "plt.show"
   ]
  },
  {
   "cell_type": "code",
   "execution_count": 22,
   "metadata": {},
   "outputs": [
    {
     "data": {
      "text/html": [
       "<div>\n",
       "<style scoped>\n",
       "    .dataframe tbody tr th:only-of-type {\n",
       "        vertical-align: middle;\n",
       "    }\n",
       "\n",
       "    .dataframe tbody tr th {\n",
       "        vertical-align: top;\n",
       "    }\n",
       "\n",
       "    .dataframe thead th {\n",
       "        text-align: right;\n",
       "    }\n",
       "</style>\n",
       "<table border=\"1\" class=\"dataframe\">\n",
       "  <thead>\n",
       "    <tr style=\"text-align: right;\">\n",
       "      <th></th>\n",
       "      <th>STORE_NBR</th>\n",
       "      <th>LYLTY_CARD_NBR</th>\n",
       "      <th>TXN_ID</th>\n",
       "      <th>PROD_NBR</th>\n",
       "      <th>PROD_QTY</th>\n",
       "      <th>TOT_SALES</th>\n",
       "    </tr>\n",
       "  </thead>\n",
       "  <tbody>\n",
       "    <tr>\n",
       "      <th>count</th>\n",
       "      <td>248196.000000</td>\n",
       "      <td>2.481960e+05</td>\n",
       "      <td>2.481960e+05</td>\n",
       "      <td>248196.000000</td>\n",
       "      <td>248196.000000</td>\n",
       "      <td>248196.000000</td>\n",
       "    </tr>\n",
       "    <tr>\n",
       "      <th>mean</th>\n",
       "      <td>135.056375</td>\n",
       "      <td>1.355343e+05</td>\n",
       "      <td>1.351362e+05</td>\n",
       "      <td>56.397230</td>\n",
       "      <td>1.906356</td>\n",
       "      <td>7.303116</td>\n",
       "    </tr>\n",
       "    <tr>\n",
       "      <th>std</th>\n",
       "      <td>76.783172</td>\n",
       "      <td>8.068906e+04</td>\n",
       "      <td>7.814257e+04</td>\n",
       "      <td>33.601323</td>\n",
       "      <td>0.342622</td>\n",
       "      <td>2.474554</td>\n",
       "    </tr>\n",
       "    <tr>\n",
       "      <th>min</th>\n",
       "      <td>1.000000</td>\n",
       "      <td>1.000000e+03</td>\n",
       "      <td>1.000000e+00</td>\n",
       "      <td>1.000000</td>\n",
       "      <td>1.000000</td>\n",
       "      <td>1.700000</td>\n",
       "    </tr>\n",
       "    <tr>\n",
       "      <th>25%</th>\n",
       "      <td>70.000000</td>\n",
       "      <td>7.001800e+04</td>\n",
       "      <td>6.758475e+04</td>\n",
       "      <td>27.000000</td>\n",
       "      <td>2.000000</td>\n",
       "      <td>5.800000</td>\n",
       "    </tr>\n",
       "    <tr>\n",
       "      <th>50%</th>\n",
       "      <td>130.000000</td>\n",
       "      <td>1.303670e+05</td>\n",
       "      <td>1.351830e+05</td>\n",
       "      <td>53.000000</td>\n",
       "      <td>2.000000</td>\n",
       "      <td>7.400000</td>\n",
       "    </tr>\n",
       "    <tr>\n",
       "      <th>75%</th>\n",
       "      <td>203.000000</td>\n",
       "      <td>2.030850e+05</td>\n",
       "      <td>2.026602e+05</td>\n",
       "      <td>87.000000</td>\n",
       "      <td>2.000000</td>\n",
       "      <td>8.800000</td>\n",
       "    </tr>\n",
       "    <tr>\n",
       "      <th>max</th>\n",
       "      <td>272.000000</td>\n",
       "      <td>2.373711e+06</td>\n",
       "      <td>2.415841e+06</td>\n",
       "      <td>114.000000</td>\n",
       "      <td>5.000000</td>\n",
       "      <td>29.500000</td>\n",
       "    </tr>\n",
       "  </tbody>\n",
       "</table>\n",
       "</div>"
      ],
      "text/plain": [
       "           STORE_NBR  LYLTY_CARD_NBR        TXN_ID       PROD_NBR  \\\n",
       "count  248196.000000    2.481960e+05  2.481960e+05  248196.000000   \n",
       "mean      135.056375    1.355343e+05  1.351362e+05      56.397230   \n",
       "std        76.783172    8.068906e+04  7.814257e+04      33.601323   \n",
       "min         1.000000    1.000000e+03  1.000000e+00       1.000000   \n",
       "25%        70.000000    7.001800e+04  6.758475e+04      27.000000   \n",
       "50%       130.000000    1.303670e+05  1.351830e+05      53.000000   \n",
       "75%       203.000000    2.030850e+05  2.026602e+05      87.000000   \n",
       "max       272.000000    2.373711e+06  2.415841e+06     114.000000   \n",
       "\n",
       "            PROD_QTY      TOT_SALES  \n",
       "count  248196.000000  248196.000000  \n",
       "mean        1.906356       7.303116  \n",
       "std         0.342622       2.474554  \n",
       "min         1.000000       1.700000  \n",
       "25%         2.000000       5.800000  \n",
       "50%         2.000000       7.400000  \n",
       "75%         2.000000       8.800000  \n",
       "max         5.000000      29.500000  "
      ]
     },
     "execution_count": 22,
     "metadata": {},
     "output_type": "execute_result"
    }
   ],
   "source": [
    "transaction_data.describe()"
   ]
  },
  {
   "cell_type": "code",
   "execution_count": 23,
   "metadata": {},
   "outputs": [
    {
     "data": {
      "text/plain": [
       "Timestamp('2019-06-30 00:00:00')"
      ]
     },
     "execution_count": 23,
     "metadata": {},
     "output_type": "execute_result"
    }
   ],
   "source": [
    "## when the latest date of transaction\n",
    "\n",
    "transaction_data['DATE'].max()"
   ]
  },
  {
   "cell_type": "code",
   "execution_count": 24,
   "metadata": {},
   "outputs": [
    {
     "data": {
      "text/plain": [
       "Timestamp('2018-07-01 00:00:00')"
      ]
     },
     "execution_count": 24,
     "metadata": {},
     "output_type": "execute_result"
    }
   ],
   "source": [
    "## when the first date for transaction \n",
    "\n",
    "transaction_data['DATE'].min()"
   ]
  },
  {
   "cell_type": "code",
   "execution_count": 25,
   "metadata": {},
   "outputs": [
    {
     "data": {
      "text/plain": [
       "(364,)"
      ]
     },
     "execution_count": 25,
     "metadata": {},
     "output_type": "execute_result"
    }
   ],
   "source": [
    "transaction_data['DATE'].unique().shape"
   ]
  },
  {
   "cell_type": "code",
   "execution_count": 26,
   "metadata": {},
   "outputs": [
    {
     "name": "stdout",
     "output_type": "stream",
     "text": [
      "            Frequency\n",
      "DATE                 \n",
      "2018-07-01        669\n",
      "2018-07-02        657\n",
      "2018-07-03        682\n",
      "2018-07-04        673\n",
      "2018-07-05        663\n",
      "...               ...\n",
      "2019-06-26        662\n",
      "2019-06-27        672\n",
      "2019-06-28        680\n",
      "2019-06-29        704\n",
      "2019-06-30        704\n",
      "\n",
      "[364 rows x 1 columns]\n"
     ]
    }
   ],
   "source": [
    "### find number of transaction each day  \n",
    "tran_freq = pd.DataFrame(transaction_data.groupby(['DATE']).size(), columns= ['Frequency'])\n",
    "print(tran_freq)"
   ]
  },
  {
   "cell_type": "code",
   "execution_count": 27,
   "metadata": {},
   "outputs": [
    {
     "data": {
      "image/png": "[encoded data removed]",
      "text/plain": [
       "<Figure size 432x288 with 1 Axes>"
      ]
     },
     "metadata": {
      "needs_background": "light"
     },
     "output_type": "display_data"
    }
   ],
   "source": [
    "## Plot transactions over time day by day from 2018-07-01 to 2019-06-30\n",
    "\n",
    "from pandas import read_csv\n",
    "from matplotlib import pyplot\n",
    "tran_freq.plot()\n",
    "pyplot.show()"
   ]
  },
  {
   "cell_type": "code",
   "execution_count": 28,
   "metadata": {},
   "outputs": [
    {
     "name": "stdout",
     "output_type": "stream",
     "text": [
      "            Frequency\n",
      "DATE                 \n",
      "2018-12-01        680\n",
      "2018-12-02        659\n",
      "2018-12-03        688\n",
      "2018-12-04        670\n",
      "2018-12-05        663\n",
      "2018-12-06        651\n",
      "2018-12-07        678\n",
      "2018-12-08        624\n",
      "2018-12-09        660\n",
      "2018-12-10        666\n",
      "2018-12-11        690\n",
      "2018-12-12        629\n",
      "2018-12-13        669\n",
      "2018-12-14        703\n",
      "2018-12-15        675\n",
      "2018-12-16        712\n",
      "2018-12-17        733\n",
      "2018-12-18        805\n",
      "2018-12-19        846\n",
      "2018-12-20        813\n",
      "2018-12-21        788\n",
      "2018-12-22        846\n",
      "2018-12-23        862\n",
      "2018-12-24        873\n",
      "2018-12-26        705\n",
      "2018-12-27        693\n",
      "2018-12-28        675\n",
      "2018-12-29        670\n",
      "2018-12-30        689\n",
      "2018-12-31        652\n"
     ]
    },
    {
     "data": {
      "image/png": "[encoded data removed]",
      "text/plain": [
       "<Figure size 432x288 with 1 Axes>"
      ]
     },
     "metadata": {
      "needs_background": "light"
     },
     "output_type": "display_data"
    }
   ],
   "source": [
    "### find number of transaction each day for December 2018\n",
    "\n",
    "Dec_2018 = tran_freq.reset_index()\n",
    "\n",
    "mask = (Dec_2018['DATE']>='2018-12-01') & (Dec_2018['DATE'] <= '2018-12-31')\n",
    "\n",
    "Dec_2018 = Dec_2018.loc[mask].set_index('DATE')\n",
    "print(Dec_2018)\n",
    "\n",
    "## Plot transactions over time day by day for December 2018 \n",
    "\n",
    "Dec_2018.plot()\n",
    "pyplot.show()\n",
    "\n",
    "## Most shopping was during christmas time"
   ]
  },
  {
   "cell_type": "code",
   "execution_count": 29,
   "metadata": {},
   "outputs": [
    {
     "data": {
      "text/plain": [
       "Text(0, 0.5, 'Frequency')"
      ]
     },
     "execution_count": 29,
     "metadata": {},
     "output_type": "execute_result"
    },
    {
     "data": {
      "image/png": "[encoded data removed]",
      "text/plain": [
       "<Figure size 432x288 with 1 Axes>"
      ]
     },
     "metadata": {
      "needs_background": "light"
     },
     "output_type": "display_data"
    }
   ],
   "source": [
    "### distribution of the total sales \n",
    "\n",
    "import seaborn as sns\n",
    "\n",
    "sns.distplot(transaction_data['TOT_SALES'], kde=False, color='red', bins=100)\n",
    "plt.title('distribution of the total sales', fontsize=18)\n",
    "plt.xlabel('Total sales', fontsize=16)\n",
    "plt.ylabel('Frequency', fontsize=16)"
   ]
  },
  {
   "cell_type": "code",
   "execution_count": 30,
   "metadata": {},
   "outputs": [
    {
     "data": {
      "image/png": "[encoded data removed]",
      "text/plain": [
       "<Figure size 720x360 with 1 Axes>"
      ]
     },
     "metadata": {
      "needs_background": "light"
     },
     "output_type": "display_data"
    }
   ],
   "source": [
    "### find the most store where the chips were bought\n",
    "\n",
    "import matplotlib.pyplot as plt\n",
    "\n",
    "top = transaction_data['STORE_NBR'].value_counts().head(n=20)\n",
    "top.plot(kind='bar')\n",
    "plt.title('Popular STORE')\n",
    "fig = plt.gcf()\n",
    "fig.set_size_inches(10, 5)\n",
    "plt.show()\n",
    "\n",
    "\n"
   ]
  },
  {
   "cell_type": "code",
   "execution_count": 31,
   "metadata": {},
   "outputs": [
    {
     "data": {
      "image/png": "[encoded data removed]",
      "text/plain": [
       "<Figure size 720x360 with 1 Axes>"
      ]
     },
     "metadata": {
      "needs_background": "light"
     },
     "output_type": "display_data"
    }
   ],
   "source": [
    "### the 50 most popular brand chips \n",
    "\n",
    "import matplotlib.pyplot as plt\n",
    "\n",
    "top = transaction_data['PROD_NAME'].value_counts().head(n=50)\n",
    "top.plot(kind='bar')\n",
    "plt.title('Popular products')\n",
    "fig = plt.gcf()\n",
    "fig.set_size_inches(10, 5)\n",
    "plt.show()\n"
   ]
  },
  {
   "cell_type": "code",
   "execution_count": 32,
   "metadata": {},
   "outputs": [
    {
     "data": {
      "text/html": [
       "<div>\n",
       "<style scoped>\n",
       "    .dataframe tbody tr th:only-of-type {\n",
       "        vertical-align: middle;\n",
       "    }\n",
       "\n",
       "    .dataframe tbody tr th {\n",
       "        vertical-align: top;\n",
       "    }\n",
       "\n",
       "    .dataframe thead th {\n",
       "        text-align: right;\n",
       "    }\n",
       "</style>\n",
       "<table border=\"1\" class=\"dataframe\">\n",
       "  <thead>\n",
       "    <tr style=\"text-align: right;\">\n",
       "      <th></th>\n",
       "      <th>DATE</th>\n",
       "      <th>STORE_NBR</th>\n",
       "      <th>LYLTY_CARD_NBR</th>\n",
       "      <th>TXN_ID</th>\n",
       "      <th>PROD_NBR</th>\n",
       "      <th>PROD_NAME</th>\n",
       "      <th>PROD_QTY</th>\n",
       "      <th>TOT_SALES</th>\n",
       "      <th>Year</th>\n",
       "      <th>Month</th>\n",
       "      <th>Month_Year</th>\n",
       "    </tr>\n",
       "  </thead>\n",
       "  <tbody>\n",
       "    <tr>\n",
       "      <th>0</th>\n",
       "      <td>2018-10-17</td>\n",
       "      <td>1</td>\n",
       "      <td>1000</td>\n",
       "      <td>1</td>\n",
       "      <td>5</td>\n",
       "      <td>Natural Chip        Compny SeaSalt175g</td>\n",
       "      <td>2</td>\n",
       "      <td>6.0</td>\n",
       "      <td>2018</td>\n",
       "      <td>10</td>\n",
       "      <td>2018-10</td>\n",
       "    </tr>\n",
       "    <tr>\n",
       "      <th>1</th>\n",
       "      <td>2019-05-14</td>\n",
       "      <td>1</td>\n",
       "      <td>1307</td>\n",
       "      <td>348</td>\n",
       "      <td>66</td>\n",
       "      <td>CCs Nacho Cheese    175g</td>\n",
       "      <td>3</td>\n",
       "      <td>6.3</td>\n",
       "      <td>2019</td>\n",
       "      <td>5</td>\n",
       "      <td>2019-05</td>\n",
       "    </tr>\n",
       "    <tr>\n",
       "      <th>2</th>\n",
       "      <td>2019-05-20</td>\n",
       "      <td>1</td>\n",
       "      <td>1343</td>\n",
       "      <td>383</td>\n",
       "      <td>61</td>\n",
       "      <td>Smiths Crinkle Cut  Chips Chicken 170g</td>\n",
       "      <td>2</td>\n",
       "      <td>2.9</td>\n",
       "      <td>2019</td>\n",
       "      <td>5</td>\n",
       "      <td>2019-05</td>\n",
       "    </tr>\n",
       "    <tr>\n",
       "      <th>3</th>\n",
       "      <td>2018-08-17</td>\n",
       "      <td>2</td>\n",
       "      <td>2373</td>\n",
       "      <td>974</td>\n",
       "      <td>69</td>\n",
       "      <td>Smiths Chip Thinly  S/Cream&amp;Onion 175g</td>\n",
       "      <td>5</td>\n",
       "      <td>15.0</td>\n",
       "      <td>2018</td>\n",
       "      <td>8</td>\n",
       "      <td>2018-08</td>\n",
       "    </tr>\n",
       "    <tr>\n",
       "      <th>4</th>\n",
       "      <td>2018-08-18</td>\n",
       "      <td>2</td>\n",
       "      <td>2426</td>\n",
       "      <td>1038</td>\n",
       "      <td>108</td>\n",
       "      <td>Kettle Tortilla ChpsHny&amp;Jlpno Chili 150g</td>\n",
       "      <td>3</td>\n",
       "      <td>13.8</td>\n",
       "      <td>2018</td>\n",
       "      <td>8</td>\n",
       "      <td>2018-08</td>\n",
       "    </tr>\n",
       "  </tbody>\n",
       "</table>\n",
       "</div>"
      ],
      "text/plain": [
       "        DATE  STORE_NBR  LYLTY_CARD_NBR  TXN_ID  PROD_NBR  \\\n",
       "0 2018-10-17          1            1000       1         5   \n",
       "1 2019-05-14          1            1307     348        66   \n",
       "2 2019-05-20          1            1343     383        61   \n",
       "3 2018-08-17          2            2373     974        69   \n",
       "4 2018-08-18          2            2426    1038       108   \n",
       "\n",
       "                                  PROD_NAME  PROD_QTY  TOT_SALES  Year  Month  \\\n",
       "0    Natural Chip        Compny SeaSalt175g         2        6.0  2018     10   \n",
       "1                  CCs Nacho Cheese    175g         3        6.3  2019      5   \n",
       "2    Smiths Crinkle Cut  Chips Chicken 170g         2        2.9  2019      5   \n",
       "3    Smiths Chip Thinly  S/Cream&Onion 175g         5       15.0  2018      8   \n",
       "4  Kettle Tortilla ChpsHny&Jlpno Chili 150g         3       13.8  2018      8   \n",
       "\n",
       "  Month_Year  \n",
       "0    2018-10  \n",
       "1    2019-05  \n",
       "2    2019-05  \n",
       "3    2018-08  \n",
       "4    2018-08  "
      ]
     },
     "execution_count": 32,
     "metadata": {},
     "output_type": "execute_result"
    }
   ],
   "source": [
    "### find the year and months columns from date column\n",
    "\n",
    "transaction_data['Year'] = pd.DatetimeIndex(transaction_data['DATE']).year\n",
    "transaction_data['Month'] = pd.DatetimeIndex(transaction_data['DATE']).month\n",
    "transaction_data['Month_Year'] = pd.to_datetime(transaction_data['DATE']).dt.to_period('M')\n",
    " \n",
    "transaction_data.head()"
   ]
  },
  {
   "cell_type": "code",
   "execution_count": 33,
   "metadata": {},
   "outputs": [
    {
     "name": "stdout",
     "output_type": "stream",
     "text": [
      "Year        2018       2019\n",
      "Month                      \n",
      "1            NaN  152252.60\n",
      "2            NaN  141103.70\n",
      "3            NaN  156518.00\n",
      "4            NaN  149925.00\n",
      "5            NaN  146940.25\n",
      "6            NaN  150832.50\n",
      "7      155189.50        NaN\n",
      "8      147918.85        NaN\n",
      "9      150555.70        NaN\n",
      "10     153998.30        NaN\n",
      "11     150171.10        NaN\n",
      "12     157198.70        NaN\n"
     ]
    },
    {
     "data": {
      "image/png": "[encoded data removed]",
      "text/plain": [
       "<Figure size 1224x720 with 1 Axes>"
      ]
     },
     "metadata": {
      "needs_background": "light"
     },
     "output_type": "display_data"
    }
   ],
   "source": [
    "### find the total sales for each month in 2018 and 2019 \n",
    "\n",
    "pv = pd.pivot_table(transaction_data, index='Month', columns= 'Year', values='TOT_SALES', aggfunc='sum')\n",
    "\n",
    "print(pv)\n",
    "\n",
    "pv.plot(kind='bar', figsize=(17, 10), color=['lightgray', 'black'], rot=0)                                       \n",
    "plt.title(\"Historical Count TOT_SALES: Month by Month Comparison\", y=1.013, fontsize=22)\n",
    "plt.xlabel(\"Date [Month]\", labelpad=16)\n",
    "plt.ylabel(\"Count [TOT_SALES]\", labelpad=16);\n",
    "\n",
    "#### Generally there is more sale end of the year than the begining "
   ]
  },
  {
   "cell_type": "code",
   "execution_count": 34,
   "metadata": {},
   "outputs": [
    {
     "name": "stdout",
     "output_type": "stream",
     "text": [
      "      Frequency\n",
      "0              \n",
      "175g      64927\n",
      "150g      40163\n",
      "134g      25102\n",
      "110g      22387\n",
      "170g      19983\n",
      "165g      15297\n",
      "330g      12540\n",
      "380g       6416\n",
      "270g       6285\n",
      "200g       4473\n",
      "135g       3257\n",
      "250g       3169\n",
      "210g       3167\n",
      "90g        3008\n",
      "190g       2995\n",
      "160g       2970\n",
      "220g       1564\n",
      "70g        1507\n",
      "180g       1468\n",
      "125g       1454\n"
     ]
    },
    {
     "data": {
      "image/png": "[encoded data removed]",
      "text/plain": [
       "<Figure size 432x288 with 1 Axes>"
      ]
     },
     "metadata": {
      "needs_background": "light"
     },
     "output_type": "display_data"
    }
   ],
   "source": [
    "### Find the most favourite of pack size\n",
    "\n",
    "res = transaction_data['PROD_NAME'].str.extract(r'(\\d+g)', expand=True)\n",
    "#print(res)\n",
    "\n",
    "pack_size_frq = pd.DataFrame(res.groupby([0]).size(), columns= ['Frequency']).sort_values(by= ['Frequency'], ascending=False)\n",
    "\n",
    "print(pack_size_frq)\n",
    "\n",
    "pack_size_frq.plot(kind='bar')\n",
    "plt.show()\n"
   ]
  },
  {
   "cell_type": "code",
   "execution_count": 35,
   "metadata": {},
   "outputs": [
    {
     "name": "stdout",
     "output_type": "stream",
     "text": [
      "            Frequency\n",
      "0                    \n",
      "Kettle          41288\n",
      "Smiths          27388\n",
      "Pringles        25102\n",
      "Doritos         22041\n",
      "Thins           14075\n",
      "RRD             11894\n",
      "Infuzions       11057\n",
      "WW              10320\n",
      "Cobs             9693\n",
      "Tostitos         9471\n",
      "Twisties         9454\n",
      "Tyrrells         6442\n",
      "Grain            6272\n",
      "Natural          6050\n",
      "Red              5885\n",
      "Cheezels         4603\n",
      "CCs              4551\n",
      "Dorito           3183\n",
      "Infzns           3144\n",
      "Smith            2963\n",
      "Cheetos          2927\n",
      "Snbts            1576\n",
      "Burger           1564\n",
      "Woolworths       1516\n",
      "GrnWves          1468\n",
      "Sunbites         1432\n",
      "NCC              1419\n",
      "French           1418\n"
     ]
    },
    {
     "data": {
      "image/png": "[encoded data removed]",
      "text/plain": [
       "<Figure size 432x288 with 1 Axes>"
      ]
     },
     "metadata": {
      "needs_background": "light"
     },
     "output_type": "display_data"
    }
   ],
   "source": [
    "### find the most favourite brand chips for the customers\n",
    "\n",
    "brand = transaction_data['PROD_NAME'].str.extract(r'(^\\w+)', expand=True)\n",
    "#print(brand)\n",
    "\n",
    "brand_frq = pd.DataFrame(brand.groupby([0]).size(), columns= ['Frequency']).sort_values(by= ['Frequency'], ascending=False)\n",
    "\n",
    "print(brand_frq)\n",
    "\n",
    "brand_frq.plot(kind='bar')\n",
    "plt.show()"
   ]
  },
  {
   "cell_type": "code",
   "execution_count": 36,
   "metadata": {},
   "outputs": [
    {
     "data": {
      "text/html": [
       "<div>\n",
       "<style scoped>\n",
       "    .dataframe tbody tr th:only-of-type {\n",
       "        vertical-align: middle;\n",
       "    }\n",
       "\n",
       "    .dataframe tbody tr th {\n",
       "        vertical-align: top;\n",
       "    }\n",
       "\n",
       "    .dataframe thead th {\n",
       "        text-align: right;\n",
       "    }\n",
       "</style>\n",
       "<table border=\"1\" class=\"dataframe\">\n",
       "  <thead>\n",
       "    <tr style=\"text-align: right;\">\n",
       "      <th></th>\n",
       "      <th>LYLTY_CARD_NBR</th>\n",
       "      <th>LIFESTAGE</th>\n",
       "      <th>PREMIUM_CUSTOMER</th>\n",
       "    </tr>\n",
       "  </thead>\n",
       "  <tbody>\n",
       "    <tr>\n",
       "      <th>0</th>\n",
       "      <td>1000</td>\n",
       "      <td>YOUNG SINGLES/COUPLES</td>\n",
       "      <td>Premium</td>\n",
       "    </tr>\n",
       "    <tr>\n",
       "      <th>1</th>\n",
       "      <td>1002</td>\n",
       "      <td>YOUNG SINGLES/COUPLES</td>\n",
       "      <td>Mainstream</td>\n",
       "    </tr>\n",
       "    <tr>\n",
       "      <th>2</th>\n",
       "      <td>1003</td>\n",
       "      <td>YOUNG FAMILIES</td>\n",
       "      <td>Budget</td>\n",
       "    </tr>\n",
       "    <tr>\n",
       "      <th>3</th>\n",
       "      <td>1004</td>\n",
       "      <td>OLDER SINGLES/COUPLES</td>\n",
       "      <td>Mainstream</td>\n",
       "    </tr>\n",
       "    <tr>\n",
       "      <th>4</th>\n",
       "      <td>1005</td>\n",
       "      <td>MIDAGE SINGLES/COUPLES</td>\n",
       "      <td>Mainstream</td>\n",
       "    </tr>\n",
       "  </tbody>\n",
       "</table>\n",
       "</div>"
      ],
      "text/plain": [
       "   LYLTY_CARD_NBR               LIFESTAGE PREMIUM_CUSTOMER\n",
       "0            1000   YOUNG SINGLES/COUPLES          Premium\n",
       "1            1002   YOUNG SINGLES/COUPLES       Mainstream\n",
       "2            1003          YOUNG FAMILIES           Budget\n",
       "3            1004   OLDER SINGLES/COUPLES       Mainstream\n",
       "4            1005  MIDAGE SINGLES/COUPLES       Mainstream"
      ]
     },
     "execution_count": 36,
     "metadata": {},
     "output_type": "execute_result"
    }
   ],
   "source": [
    "### Explore the customer catogaries\n",
    "\n",
    "purchase_behaviour.head()"
   ]
  },
  {
   "cell_type": "code",
   "execution_count": 37,
   "metadata": {},
   "outputs": [
    {
     "name": "stdout",
     "output_type": "stream",
     "text": [
      "<class 'pandas.core.frame.DataFrame'>\n",
      "Int64Index: 72636 entries, 0 to 72636\n",
      "Data columns (total 3 columns):\n",
      " #   Column            Non-Null Count  Dtype \n",
      "---  ------            --------------  ----- \n",
      " 0   LYLTY_CARD_NBR    72636 non-null  int64 \n",
      " 1   LIFESTAGE         72636 non-null  object\n",
      " 2   PREMIUM_CUSTOMER  72636 non-null  object\n",
      "dtypes: int64(1), object(2)\n",
      "memory usage: 1.7+ MB\n"
     ]
    }
   ],
   "source": [
    "## Checking the data type \n",
    "\n",
    "purchase_behaviour.info()"
   ]
  },
  {
   "cell_type": "code",
   "execution_count": 38,
   "metadata": {},
   "outputs": [
    {
     "data": {
      "image/png": "[encoded data removed]",
      "text/plain": [
       "<Figure size 432x288 with 1 Axes>"
      ]
     },
     "metadata": {
      "needs_background": "light"
     },
     "output_type": "display_data"
    },
    {
     "data": {
      "image/png": "[encoded data removed]",
      "text/plain": [
       "<Figure size 432x288 with 1 Axes>"
      ]
     },
     "metadata": {
      "needs_background": "light"
     },
     "output_type": "display_data"
    }
   ],
   "source": [
    "### find the most customer from which life stage and from which purchase behaviour\n",
    "\n",
    "import matplotlib.pyplot as plt\n",
    "\n",
    "LIFESTAGE_frq = pd.DataFrame(purchase_behaviour.groupby(['LIFESTAGE']).size(), columns= ['Frequency']).sort_values(by= ['Frequency'], ascending=False)\n",
    "PREMIUM_CUSTOMER_frq = pd.DataFrame(purchase_behaviour.groupby(['PREMIUM_CUSTOMER']).size(), columns= ['Frequency']).sort_values(by= ['Frequency'], ascending=False)\n",
    "\n",
    "\n",
    "LIFESTAGE_frq.plot(kind='bar')\n",
    "PREMIUM_CUSTOMER_frq.plot(kind='bar')\n",
    "plt.show()"
   ]
  },
  {
   "cell_type": "code",
   "execution_count": 39,
   "metadata": {},
   "outputs": [
    {
     "data": {
      "text/plain": [
       "<matplotlib.axes._subplots.AxesSubplot at 0xc2a71b0>"
      ]
     },
     "execution_count": 39,
     "metadata": {},
     "output_type": "execute_result"
    },
    {
     "data": {
      "image/png": "[encoded data removed]",
      "text/plain": [
       "<Figure size 432x288 with 1 Axes>"
      ]
     },
     "metadata": {
      "needs_background": "light"
     },
     "output_type": "display_data"
    }
   ],
   "source": [
    "\n",
    "#### Most of the customers from the mainstream and young singles/couples \n",
    "\n",
    "frq = pd.DataFrame(purchase_behaviour.groupby(['PREMIUM_CUSTOMER', 'LIFESTAGE']).size(), columns= ['Frequency']).sort_values(by= ['PREMIUM_CUSTOMER'], ascending=False)\n",
    "frq = frq.reset_index()\n",
    "#print(frq)\n",
    "\n",
    "freq_povit = frq.pivot(index='LIFESTAGE', columns='PREMIUM_CUSTOMER', values='Frequency')\n",
    "\n",
    "freq_povit.plot(kind='bar')"
   ]
  },
  {
   "cell_type": "code",
   "execution_count": 40,
   "metadata": {},
   "outputs": [
    {
     "name": "stdout",
     "output_type": "stream",
     "text": [
      "             DATE  STORE_NBR  LYLTY_CARD_NBR  TXN_ID  PROD_NBR  \\\n",
      "0      2018-10-17          1            1000       1         5   \n",
      "1      2019-05-14          1            1307     348        66   \n",
      "2      2018-11-10          1            1307     346        96   \n",
      "3      2019-03-09          1            1307     347        54   \n",
      "4      2019-05-20          1            1343     383        61   \n",
      "...           ...        ...             ...     ...       ...   \n",
      "248191 2019-03-09        272          272319  270088        89   \n",
      "248192 2018-08-13        272          272358  270154        74   \n",
      "248193 2018-11-06        272          272379  270187        51   \n",
      "248194 2018-12-27        272          272379  270188        42   \n",
      "248195 2018-09-22        272          272380  270189        74   \n",
      "\n",
      "                                      PROD_NAME  PROD_QTY  TOT_SALES  Year  \\\n",
      "0        Natural Chip        Compny SeaSalt175g         2        6.0  2018   \n",
      "1                      CCs Nacho Cheese    175g         3        6.3  2019   \n",
      "2                WW Original Stacked Chips 160g         2        3.8  2018   \n",
      "3                             CCs Original 175g         1        2.1  2019   \n",
      "4        Smiths Crinkle Cut  Chips Chicken 170g         2        2.9  2019   \n",
      "...                                         ...       ...        ...   ...   \n",
      "248191  Kettle Sweet Chilli And Sour Cream 175g         2       10.8  2019   \n",
      "248192            Tostitos Splash Of  Lime 175g         1        4.4  2018   \n",
      "248193                 Doritos Mexicana    170g         2        8.8  2018   \n",
      "248194  Doritos Corn Chip Mexican Jalapeno 150g         2        7.8  2018   \n",
      "248195            Tostitos Splash Of  Lime 175g         2        8.8  2018   \n",
      "\n",
      "        Month Month_Year               LIFESTAGE PREMIUM_CUSTOMER  \n",
      "0          10    2018-10   YOUNG SINGLES/COUPLES          Premium  \n",
      "1           5    2019-05  MIDAGE SINGLES/COUPLES           Budget  \n",
      "2          11    2018-11  MIDAGE SINGLES/COUPLES           Budget  \n",
      "3           3    2019-03  MIDAGE SINGLES/COUPLES           Budget  \n",
      "4           5    2019-05  MIDAGE SINGLES/COUPLES           Budget  \n",
      "...       ...        ...                     ...              ...  \n",
      "248191      3    2019-03   YOUNG SINGLES/COUPLES          Premium  \n",
      "248192      8    2018-08   YOUNG SINGLES/COUPLES          Premium  \n",
      "248193     11    2018-11   YOUNG SINGLES/COUPLES          Premium  \n",
      "248194     12    2018-12   YOUNG SINGLES/COUPLES          Premium  \n",
      "248195      9    2018-09   YOUNG SINGLES/COUPLES          Premium  \n",
      "\n",
      "[248196 rows x 13 columns]\n"
     ]
    },
    {
     "data": {
      "text/plain": [
       "DATE                0\n",
       "STORE_NBR           0\n",
       "LYLTY_CARD_NBR      0\n",
       "TXN_ID              0\n",
       "PROD_NBR            0\n",
       "PROD_NAME           0\n",
       "PROD_QTY            0\n",
       "TOT_SALES           0\n",
       "Year                0\n",
       "Month               0\n",
       "Month_Year          0\n",
       "LIFESTAGE           0\n",
       "PREMIUM_CUSTOMER    0\n",
       "dtype: int64"
      ]
     },
     "execution_count": 40,
     "metadata": {},
     "output_type": "execute_result"
    }
   ],
   "source": [
    "### merge the transaction and purchase behaviour datasets \n",
    "\n",
    "merge_data = pd.merge(transaction_data, purchase_behaviour, on='LYLTY_CARD_NBR')\n",
    "\n",
    "print(merge_data)\n",
    "merge_data.isnull().sum()"
   ]
  },
  {
   "cell_type": "code",
   "execution_count": 41,
   "metadata": {},
   "outputs": [],
   "source": [
    "### write the dataset to be saved in file \n",
    "merge_data.to_csv (r'merge_data.xlsx', index = False, header=True)\n"
   ]
  },
  {
   "cell_type": "code",
   "execution_count": 42,
   "metadata": {},
   "outputs": [
    {
     "name": "stdout",
     "output_type": "stream",
     "text": [
      "PREMIUM_CUSTOMER           Budget  Mainstream    Premium\n",
      "LIFESTAGE                                               \n",
      "MIDAGE SINGLES/COUPLES   33510.40    84963.75   54738.15\n",
      "NEW FAMILIES             20661.45    16036.40   10817.50\n",
      "OLDER FAMILIES          157646.75    96805.05   75647.60\n",
      "OLDER SINGLES/COUPLES   128254.80   125188.50  124014.25\n",
      "RETIREES                106291.60   145806.15   91650.35\n",
      "YOUNG FAMILIES          130276.85    86770.25   78960.50\n",
      "YOUNG SINGLES/COUPLES    57362.40   148030.40   39171.10\n"
     ]
    },
    {
     "data": {
      "text/plain": [
       "<matplotlib.legend.Legend at 0xcc6da70>"
      ]
     },
     "execution_count": 42,
     "metadata": {},
     "output_type": "execute_result"
    },
    {
     "data": {
      "image/png": "[encoded data removed]",
      "text/plain": [
       "<Figure size 432x288 with 1 Axes>"
      ]
     },
     "metadata": {
      "needs_background": "light"
     },
     "output_type": "display_data"
    }
   ],
   "source": [
    "#- Who spends the most on chips (total sales), describing customers by lifestage and \n",
    "# how premium their general purchasing behaviour is\n",
    "\n",
    "\n",
    "df1_total_sales=pd.pivot_table(merge_data, index=['PREMIUM_CUSTOMER','LIFESTAGE'],values=['TOT_SALES'],aggfunc=np.sum).sort_values(by= ['PREMIUM_CUSTOMER','LIFESTAGE'], ascending=False).reset_index()\n",
    "#print(df1_total_sales)\n",
    "\n",
    "total_sale_povit =df1_total_sales.pivot(index='LIFESTAGE', columns='PREMIUM_CUSTOMER', values='TOT_SALES')\n",
    "print(total_sale_povit)\n",
    "\n",
    "total_sale_povit.plot(kind='bar').legend( bbox_to_anchor=(1.05, 1), loc='upper left', fontsize='medium')\n"
   ]
  },
  {
   "cell_type": "code",
   "execution_count": 43,
   "metadata": {},
   "outputs": [
    {
     "name": "stdout",
     "output_type": "stream",
     "text": [
      "PREMIUM_CUSTOMER        Budget  Mainstream  Premium\n",
      "LIFESTAGE                                          \n",
      "MIDAGE SINGLES/COUPLES    1477        3300     2375\n",
      "NEW FAMILIES              1089         832      576\n",
      "OLDER FAMILIES            4617        2793     2234\n",
      "OLDER SINGLES/COUPLES     4856        4866     4690\n",
      "RETIREES                  4388        6369     3817\n",
      "YOUNG FAMILIES            3957        2690     2401\n",
      "YOUNG SINGLES/COUPLES     3660        7921     2487\n"
     ]
    },
    {
     "data": {
      "text/plain": [
       "<matplotlib.legend.Legend at 0xcc454d0>"
      ]
     },
     "execution_count": 43,
     "metadata": {},
     "output_type": "execute_result"
    },
    {
     "data": {
      "image/png": "[encoded data removed]",
      "text/plain": [
       "<Figure size 432x288 with 1 Axes>"
      ]
     },
     "metadata": {
      "needs_background": "light"
     },
     "output_type": "display_data"
    }
   ],
   "source": [
    "### - How many customers are in each segment\n",
    "\n",
    "df1_customer =pd.pivot_table(merge_data, index=['PREMIUM_CUSTOMER','LIFESTAGE'],values=['LYLTY_CARD_NBR'], aggfunc=lambda x: len(x.unique())).sort_values(by= ['PREMIUM_CUSTOMER','LIFESTAGE'], ascending=False).reset_index()\n",
    "#print(df1_customer)\n",
    "\n",
    "total_customer_povit =df1_customer.pivot(index='LIFESTAGE', columns='PREMIUM_CUSTOMER', values='LYLTY_CARD_NBR')\n",
    "print(total_customer_povit)\n",
    "\n",
    "total_customer_povit.plot(kind='bar').legend( bbox_to_anchor=(1.05, 1), loc='upper left', fontsize='medium')\n"
   ]
  },
  {
   "cell_type": "code",
   "execution_count": 44,
   "metadata": {},
   "outputs": [
    {
     "name": "stdout",
     "output_type": "stream",
     "text": [
      "   PREMIUM_CUSTOMER               LIFESTAGE  PROD_QTY  PROD_QTY/customer\n",
      "0           Premium   YOUNG SINGLES/COUPLES     10619           4.269803\n",
      "1           Premium          YOUNG FAMILIES     21045           8.765098\n",
      "2           Premium                RETIREES     23397           6.129683\n",
      "3           Premium   OLDER SINGLES/COUPLES     31872           6.795736\n",
      "4           Premium          OLDER FAMILIES     20389           9.126679\n",
      "5           Premium            NEW FAMILIES      2790           4.843750\n",
      "6           Premium  MIDAGE SINGLES/COUPLES     14509           6.109053\n",
      "7        Mainstream   YOUNG SINGLES/COUPLES     36391           4.594243\n",
      "8        Mainstream          YOUNG FAMILIES     23354           8.681784\n",
      "9        Mainstream                RETIREES     37913           5.952740\n",
      "10       Mainstream   OLDER SINGLES/COUPLES     32807           6.742088\n",
      "11       Mainstream          OLDER FAMILIES     25949           9.290727\n",
      "12       Mainstream            NEW FAMILIES      4081           4.905048\n",
      "13       Mainstream  MIDAGE SINGLES/COUPLES     21298           6.453939\n",
      "14           Budget   YOUNG SINGLES/COUPLES     15589           4.259290\n",
      "15           Budget          YOUNG FAMILIES     34689           8.766490\n",
      "16           Budget                RETIREES     27071           6.169325\n",
      "17           Budget   OLDER SINGLES/COUPLES     33039           6.803748\n",
      "18           Budget          OLDER FAMILIES     42143           9.127789\n",
      "19           Budget            NEW FAMILIES      5261           4.831038\n",
      "20           Budget  MIDAGE SINGLES/COUPLES      8944           6.055518\n",
      "PREMIUM_CUSTOMER          Budget  Mainstream   Premium\n",
      "LIFESTAGE                                             \n",
      "MIDAGE SINGLES/COUPLES  6.055518    6.453939  6.109053\n",
      "NEW FAMILIES            4.831038    4.905048  4.843750\n",
      "OLDER FAMILIES          9.127789    9.290727  9.126679\n",
      "OLDER SINGLES/COUPLES   6.803748    6.742088  6.795736\n",
      "RETIREES                6.169325    5.952740  6.129683\n",
      "YOUNG FAMILIES          8.766490    8.681784  8.765098\n",
      "YOUNG SINGLES/COUPLES   4.259290    4.594243  4.269803\n"
     ]
    },
    {
     "data": {
      "text/plain": [
       "<matplotlib.legend.Legend at 0xe5446b0>"
      ]
     },
     "execution_count": 44,
     "metadata": {},
     "output_type": "execute_result"
    },
    {
     "data": {
      "image/png": "[encoded data removed]",
      "text/plain": [
       "<Figure size 432x288 with 1 Axes>"
      ]
     },
     "metadata": {
      "needs_background": "light"
     },
     "output_type": "display_data"
    }
   ],
   "source": [
    "#- How many chips are bought per customer by segment\n",
    "\n",
    "df1_units_per_customer = pd.pivot_table(merge_data, index=['PREMIUM_CUSTOMER','LIFESTAGE'],values=['PROD_QTY'], aggfunc= np.sum).sort_values(by= ['PREMIUM_CUSTOMER','LIFESTAGE'], ascending=False).reset_index()\n",
    "\n",
    "df1_units_per_customer ['PROD_QTY/customer'] = df1_units_per_customer['PROD_QTY']/ df1_customer['LYLTY_CARD_NBR']\n",
    "print(df1_units_per_customer)\n",
    "\n",
    "total_units_povit =df1_units_per_customer.pivot(index='LIFESTAGE', columns='PREMIUM_CUSTOMER', values='PROD_QTY/customer')\n",
    "print(total_units_povit)\n",
    "\n",
    "total_units_povit.plot(kind='bar').legend( bbox_to_anchor=(1.05, 1), loc='upper left', fontsize='medium')\n"
   ]
  },
  {
   "cell_type": "code",
   "execution_count": 45,
   "metadata": {},
   "outputs": [
    {
     "name": "stdout",
     "output_type": "stream",
     "text": [
      "PREMIUM_CUSTOMER          Budget  Mainstream   Premium\n",
      "LIFESTAGE                                             \n",
      "MIDAGE SINGLES/COUPLES  3.746691    3.989283  3.772703\n",
      "NEW FAMILIES            3.927286    3.929527  3.877240\n",
      "OLDER FAMILIES          3.740758    3.730589  3.710216\n",
      "OLDER SINGLES/COUPLES   3.881921    3.815908  3.891009\n",
      "RETIREES                3.926401    3.845809  3.917184\n",
      "YOUNG FAMILIES          3.755567    3.715434  3.751984\n",
      "YOUNG SINGLES/COUPLES   3.679672    4.067775  3.688775\n"
     ]
    },
    {
     "data": {
      "text/plain": [
       "<matplotlib.legend.Legend at 0xda58cb0>"
      ]
     },
     "execution_count": 45,
     "metadata": {},
     "output_type": "execute_result"
    },
    {
     "data": {
      "image/png": "[encoded data removed]",
      "text/plain": [
       "<Figure size 432x288 with 1 Axes>"
      ]
     },
     "metadata": {
      "needs_background": "light"
     },
     "output_type": "display_data"
    }
   ],
   "source": [
    "#- What's the average chip price by customer segment\n",
    "\n",
    "df1_total_sales=pd.pivot_table(merge_data, index=['PREMIUM_CUSTOMER','LIFESTAGE'],values=['TOT_SALES'],aggfunc=np.sum).sort_values(by= ['PREMIUM_CUSTOMER','LIFESTAGE'], ascending=False).reset_index()\n",
    "#print(df1_total_sales)\n",
    "\n",
    "df1_total_sales ['TOT_SALES/units'] = df1_total_sales['TOT_SALES']/ df1_units_per_customer['PROD_QTY']\n",
    "#print(df1_total_sales)\n",
    "\n",
    "total_sale_perunit_povit =df1_total_sales.pivot(index='LIFESTAGE', columns='PREMIUM_CUSTOMER', values='TOT_SALES/units')\n",
    "print(total_sale_perunit_povit)\n",
    "\n",
    "total_sale_perunit_povit.plot(kind='bar').legend( bbox_to_anchor=(1.05, 1), loc='upper left', fontsize='medium')\n"
   ]
  },
  {
   "cell_type": "code",
   "execution_count": 53,
   "metadata": {},
   "outputs": [
    {
     "name": "stdout",
     "output_type": "stream",
     "text": [
      "             DATE  STORE_NBR  LYLTY_CARD_NBR  TXN_ID  PROD_NBR  \\\n",
      "222681 2018-08-16          1            1020      26        19   \n",
      "222682 2018-10-02          1            1020      27         7   \n",
      "222683 2019-05-02          1            1020      28        84   \n",
      "222684 2018-08-17          1            1163     188        46   \n",
      "222685 2019-02-07          1            1163     189        12   \n",
      "...           ...        ...             ...     ...       ...   \n",
      "242314 2018-12-01        272          272377  270186        75   \n",
      "242315 2018-07-27        272          272389  270200       114   \n",
      "242316 2018-11-10        272          272389  270201        26   \n",
      "242317 2019-04-01        272          272389  270202        62   \n",
      "242318 2018-12-07        272          272391  270205        63   \n",
      "\n",
      "                                      PROD_NAME  PROD_QTY  TOT_SALES  Year  \\\n",
      "222681      Smiths Crinkle Cut  Snag&Sauce 150g         1        2.6  2018   \n",
      "222682        Smiths Crinkle      Original 330g         1        5.7  2018   \n",
      "222683    GrnWves Plus Btroot & Chilli Jam 180g         1        3.1  2019   \n",
      "222684                     Kettle Original 175g         1        5.4  2018   \n",
      "222685  Natural Chip Co     Tmato Hrb&Spce 175g         1        3.0  2019   \n",
      "...                                         ...       ...        ...   ...   \n",
      "242314           Cobs Popd Sea Salt  Chips 110g         2        7.6  2018   \n",
      "242315    Kettle Sensations   Siracha Lime 150g         2        9.2  2018   \n",
      "242316             Pringles Sweet&Spcy BBQ 134g         2        7.4  2018   \n",
      "242317         Pringles Mystery    Flavour 134g         2        7.4  2019   \n",
      "242318             Kettle 135g Swt Pot Sea Salt         2        8.4  2018   \n",
      "\n",
      "        Month Month_Year              LIFESTAGE PREMIUM_CUSTOMER  \n",
      "222681      8    2018-08  YOUNG SINGLES/COUPLES       Mainstream  \n",
      "222682     10    2018-10  YOUNG SINGLES/COUPLES       Mainstream  \n",
      "222683      5    2019-05  YOUNG SINGLES/COUPLES       Mainstream  \n",
      "222684      8    2018-08  YOUNG SINGLES/COUPLES       Mainstream  \n",
      "222685      2    2019-02  YOUNG SINGLES/COUPLES       Mainstream  \n",
      "...       ...        ...                    ...              ...  \n",
      "242314     12    2018-12  YOUNG SINGLES/COUPLES       Mainstream  \n",
      "242315      7    2018-07  YOUNG SINGLES/COUPLES       Mainstream  \n",
      "242316     11    2018-11  YOUNG SINGLES/COUPLES       Mainstream  \n",
      "242317      4    2019-04  YOUNG SINGLES/COUPLES       Mainstream  \n",
      "242318     12    2018-12  YOUNG SINGLES/COUPLES       Mainstream  \n",
      "\n",
      "[19638 rows x 13 columns]\n",
      "             DATE  STORE_NBR  LYLTY_CARD_NBR  TXN_ID  PROD_NBR  \\\n",
      "0      2018-10-17          1            1000       1         5   \n",
      "1      2019-05-14          1            1307     348        66   \n",
      "2      2018-11-10          1            1307     346        96   \n",
      "3      2019-03-09          1            1307     347        54   \n",
      "4      2019-05-20          1            1343     383        61   \n",
      "...           ...        ...             ...     ...       ...   \n",
      "248191 2019-03-09        272          272319  270088        89   \n",
      "248192 2018-08-13        272          272358  270154        74   \n",
      "248193 2018-11-06        272          272379  270187        51   \n",
      "248194 2018-12-27        272          272379  270188        42   \n",
      "248195 2018-09-22        272          272380  270189        74   \n",
      "\n",
      "                                      PROD_NAME  PROD_QTY  TOT_SALES  Year  \\\n",
      "0        Natural Chip        Compny SeaSalt175g         2        6.0  2018   \n",
      "1                      CCs Nacho Cheese    175g         3        6.3  2019   \n",
      "2                WW Original Stacked Chips 160g         2        3.8  2018   \n",
      "3                             CCs Original 175g         1        2.1  2019   \n",
      "4        Smiths Crinkle Cut  Chips Chicken 170g         2        2.9  2019   \n",
      "...                                         ...       ...        ...   ...   \n",
      "248191  Kettle Sweet Chilli And Sour Cream 175g         2       10.8  2019   \n",
      "248192            Tostitos Splash Of  Lime 175g         1        4.4  2018   \n",
      "248193                 Doritos Mexicana    170g         2        8.8  2018   \n",
      "248194  Doritos Corn Chip Mexican Jalapeno 150g         2        7.8  2018   \n",
      "248195            Tostitos Splash Of  Lime 175g         2        8.8  2018   \n",
      "\n",
      "        Month Month_Year               LIFESTAGE PREMIUM_CUSTOMER  \n",
      "0          10    2018-10   YOUNG SINGLES/COUPLES          Premium  \n",
      "1           5    2019-05  MIDAGE SINGLES/COUPLES           Budget  \n",
      "2          11    2018-11  MIDAGE SINGLES/COUPLES           Budget  \n",
      "3           3    2019-03  MIDAGE SINGLES/COUPLES           Budget  \n",
      "4           5    2019-05  MIDAGE SINGLES/COUPLES           Budget  \n",
      "...       ...        ...                     ...              ...  \n",
      "248191      3    2019-03   YOUNG SINGLES/COUPLES          Premium  \n",
      "248192      8    2018-08   YOUNG SINGLES/COUPLES          Premium  \n",
      "248193     11    2018-11   YOUNG SINGLES/COUPLES          Premium  \n",
      "248194     12    2018-12   YOUNG SINGLES/COUPLES          Premium  \n",
      "248195      9    2018-09   YOUNG SINGLES/COUPLES          Premium  \n",
      "\n",
      "[228558 rows x 13 columns]\n"
     ]
    }
   ],
   "source": [
    "### Explore the Mainstream - young singles/couples customers in deep \n",
    "\n",
    "merge_data_young_singlescouples = merge_data[merge_data.LIFESTAGE.str.contains('YOUNG SINGLES/COUPLES',case=False) & merge_data.PREMIUM_CUSTOMER.str.contains('Mainstream',case=False)]\n",
    "print(merge_data_young_singlescouples)\n",
    "\n",
    "other_brand = pd.concat([merge_data, merge_data_young_singlescouples]).drop_duplicates(keep=False)\n",
    "print(other_brand)\n"
   ]
  },
  {
   "cell_type": "code",
   "execution_count": 63,
   "metadata": {},
   "outputs": [
    {
     "name": "stdout",
     "output_type": "stream",
     "text": [
      "          Brands  Transaction  PROD_QTY\n",
      "222681    Smiths           26         1\n",
      "222682    Smiths           27         1\n",
      "222683   GrnWves           28         1\n",
      "222684    Kettle          188         1\n",
      "222685   Natural          189         1\n",
      "...          ...          ...       ...\n",
      "242314      Cobs       270186         2\n",
      "242315    Kettle       270200         2\n",
      "242316  Pringles       270201         2\n",
      "242317  Pringles       270202         2\n",
      "242318    Kettle       270205         2\n",
      "\n",
      "[19638 rows x 3 columns]\n",
      "          Brands  Transaction  PROD_QTY\n",
      "0        Natural            1         2\n",
      "1            CCs          348         3\n",
      "2             WW          346         2\n",
      "3            CCs          347         1\n",
      "4         Smiths          383         2\n",
      "...          ...          ...       ...\n",
      "248191    Kettle       270088         2\n",
      "248192  Tostitos       270154         1\n",
      "248193   Doritos       270187         2\n",
      "248194   Doritos       270188         2\n",
      "248195  Tostitos       270189         2\n",
      "\n",
      "[228558 rows x 3 columns]\n"
     ]
    }
   ],
   "source": [
    "### create dataset for each brand and the quantity which were bought by Mainstream - young singles/couples customers\n",
    "### and dataset for each brand and the quantity which were bought by other customers\n",
    "\n",
    "brand_young_mainstream = merge_data_young_singlescouples['PROD_NAME'].str.extract(r'(^\\w+)', expand=True)\n",
    "brand_young_mainstream.rename(columns = {0:'Brands'}, inplace = True) \n",
    "\n",
    "brand_young_mainstream['Transaction'] = merge_data_young_singlescouples['TXN_ID']\n",
    "brand_young_mainstream['PROD_QTY'] = merge_data_young_singlescouples['PROD_QTY']\n",
    "\n",
    "\n",
    "print(brand_young_mainstream)\n",
    "\n",
    "brand_others = other_brand['PROD_NAME'].str.extract(r'(^\\w+)', expand=True)\n",
    "brand_others.rename(columns = {0:'Brands'}, inplace = True) \n",
    "\n",
    "brand_others['Transaction'] = other_brand['TXN_ID']\n",
    "brand_others['PROD_QTY'] = other_brand['PROD_QTY']\n",
    "\n",
    "\n",
    "print(brand_others)\n",
    "\n"
   ]
  },
  {
   "cell_type": "code",
   "execution_count": 78,
   "metadata": {},
   "outputs": [
    {
     "name": "stdout",
     "output_type": "stream",
     "text": [
      "            PROD_QTY  Qty_others   percent\n",
      "Brands                                    \n",
      "Dorito      0.015636    0.012684  1.232680\n",
      "Tyrrells    0.031409    0.025540  1.229772\n",
      "Twisties    0.045973    0.037652  1.220984\n",
      "Doritos     0.106565    0.087792  1.213831\n",
      "Kettle      0.197082    0.164574  1.197529\n",
      "Tostitos    0.045203    0.037753  1.197345\n",
      "Infzns      0.014866    0.012499  1.189411\n",
      "Pringles    0.118876    0.100039  1.188290\n",
      "Grain       0.028991    0.024973  1.160901\n",
      "Cobs        0.044434    0.038818  1.144684\n",
      "Infuzions   0.049518    0.044228  1.119600\n",
      "Thins       0.060097    0.056649  1.060869\n",
      "Cheezels    0.017889    0.018537  0.965069\n",
      "Smiths      0.089363    0.111542  0.801157\n",
      "French      0.003930    0.005724  0.686505\n",
      "Red         0.016295    0.024162  0.674414\n",
      "Cheetos     0.007996    0.011995  0.666642\n",
      "RRD         0.031876    0.048860  0.652396\n",
      "Natural     0.015883    0.024833  0.639597\n",
      "NCC         0.003627    0.005838  0.621272\n",
      "CCs         0.011129    0.018784  0.592485\n",
      "GrnWves     0.003572    0.006031  0.592346\n",
      "Smith       0.006568    0.012295  0.534160\n",
      "Snbts       0.003462    0.006548  0.528752\n",
      "WW          0.021159    0.042795  0.494431\n",
      "Sunbites    0.002858    0.005958  0.479705\n",
      "Woolworths  0.002830    0.006340  0.446439\n",
      "Burger      0.002913    0.006557  0.444202\n"
     ]
    },
    {
     "data": {
      "text/plain": [
       "<matplotlib.legend.Legend at 0x12f42490>"
      ]
     },
     "execution_count": 78,
     "metadata": {},
     "output_type": "execute_result"
    },
    {
     "data": {
      "image/png": "[encoded data removed]",
      "text/plain": [
       "<Figure size 432x288 with 1 Axes>"
      ]
     },
     "metadata": {
      "needs_background": "light"
     },
     "output_type": "display_data"
    }
   ],
   "source": [
    "### find the percentage of favourite brands for Mainstream - young singles/couples customers compared with other customers\n",
    "\n",
    "sum_qty_brand_young = brand_young_mainstream['PROD_QTY'].sum()\n",
    "sum_qty_brand_not_young = brand_others['PROD_QTY'].sum()\n",
    "\n",
    "\n",
    "brand_young= brand_young_mainstream.groupby(['Brands'])['PROD_QTY'].sum().reset_index().fillna(0).set_index('Brands').sort_values(by= ['PROD_QTY'], ascending=False)\n",
    "brand_young =  brand_young/sum_qty_brand_young\n",
    "\n",
    "\n",
    "brand_not_young =  brand_others.groupby(['Brands'])['PROD_QTY'].sum().reset_index().fillna(0).set_index('Brands').sort_values(by= ['PROD_QTY'], ascending=False)\n",
    "\n",
    "brand_young['Qty_others'] = brand_not_young/sum_qty_brand_not_young\n",
    "\n",
    "brand_young['percent'] = (brand_young['PROD_QTY'] / brand_young['Qty_others'])\n",
    "\n",
    "print(brand_young.sort_values(by= ['percent'], ascending=False))\n",
    "\n",
    "brand_young['percent'].sort_values( ascending=False).plot(kind='bar').legend( bbox_to_anchor=(1.05, 1), loc='upper left', fontsize='medium')\n"
   ]
  },
  {
   "cell_type": "code",
   "execution_count": 75,
   "metadata": {},
   "outputs": [
    {
     "name": "stdout",
     "output_type": "stream",
     "text": [
      "       pack_size  Transaction  PROD_QTY\n",
      "222681      150g           26         1\n",
      "222682      330g           27         1\n",
      "222683      180g           28         1\n",
      "222684      175g          188         1\n",
      "222685      175g          189         1\n",
      "...          ...          ...       ...\n",
      "242314      110g       270186         2\n",
      "242315      150g       270200         2\n",
      "242316      134g       270201         2\n",
      "242317      134g       270202         2\n",
      "242318      135g       270205         2\n",
      "\n",
      "[19638 rows x 3 columns]\n",
      "       pack_size  Transaction  PROD_QTY\n",
      "0           175g            1         2\n",
      "1           175g          348         3\n",
      "2           160g          346         2\n",
      "3           175g          347         1\n",
      "4           170g          383         2\n",
      "...          ...          ...       ...\n",
      "248191      175g       270088         2\n",
      "248192      175g       270154         1\n",
      "248193      170g       270187         2\n",
      "248194      150g       270188         2\n",
      "248195      175g       270189         2\n",
      "\n",
      "[228558 rows x 3 columns]\n"
     ]
    }
   ],
   "source": [
    "\n",
    "\n",
    "pack_size_young_mainstream = merge_data_young_singlescouples['PROD_NAME'].str.extract(r'(\\d+g)', expand=True)\n",
    "pack_size_young_mainstream.rename(columns = {0:'pack_size'}, inplace = True) \n",
    "\n",
    "pack_size_young_mainstream['Transaction'] = merge_data_young_singlescouples['TXN_ID']\n",
    "pack_size_young_mainstream['PROD_QTY'] = merge_data_young_singlescouples['PROD_QTY']\n",
    "\n",
    "\n",
    "print(pack_size_young_mainstream)\n",
    "\n",
    "pack_size_others = other_brand['PROD_NAME'].str.extract(r'(\\d+g)', expand=True)\n",
    "pack_size_others.rename(columns = {0:'pack_size'}, inplace = True) \n",
    "\n",
    "pack_size_others['Transaction'] = other_brand['TXN_ID']\n",
    "pack_size_others['PROD_QTY'] = other_brand['PROD_QTY']\n",
    "\n",
    "\n",
    "print(pack_size_others)\n"
   ]
  },
  {
   "cell_type": "code",
   "execution_count": 76,
   "metadata": {},
   "outputs": [
    {
     "name": "stdout",
     "output_type": "stream",
     "text": [
      "           PROD_QTY  Qty_others   percent\n",
      "pack_size                                \n",
      "270g       0.031684    0.024947  1.270019\n",
      "380g       0.032013    0.025433  1.258745\n",
      "210g       0.015388    0.012526  1.228483\n",
      "330g       0.061004    0.049865  1.223384\n",
      "134g       0.118876    0.100039  1.188290\n",
      "110g       0.105795    0.089260  1.185253\n",
      "135g       0.014701    0.012998  1.131052\n",
      "250g       0.014289    0.012705  1.124699\n",
      "170g       0.080404    0.080507  0.998731\n",
      "150g       0.157429    0.162204  0.970563\n",
      "175g       0.250419    0.262330  0.954595\n",
      "165g       0.055398    0.061899  0.894977\n",
      "190g       0.007447    0.012368  0.602092\n",
      "180g       0.003572    0.006031  0.592346\n",
      "160g       0.006375    0.012300  0.518322\n",
      "90g        0.006320    0.012506  0.505387\n",
      "125g       0.002995    0.006001  0.499123\n",
      "200g       0.008931    0.018546  0.481555\n",
      "70g        0.003023    0.006285  0.480948\n",
      "220g       0.002913    0.006557  0.444202\n"
     ]
    },
    {
     "data": {
      "text/plain": [
       "<matplotlib.legend.Legend at 0x145efd70>"
      ]
     },
     "execution_count": 76,
     "metadata": {},
     "output_type": "execute_result"
    },
    {
     "data": {
      "image/png": "[encoded data removed]",
      "text/plain": [
       "<Figure size 432x288 with 1 Axes>"
      ]
     },
     "metadata": {
      "needs_background": "light"
     },
     "output_type": "display_data"
    }
   ],
   "source": [
    "### find the percentage of favourite pack size for Mainstream - young singles/couples customers compared with other customers\n",
    "\n",
    "sum_qty_packsize_young = pack_size_young_mainstream['PROD_QTY'].sum()\n",
    "sum_qty_packsize_not_young = pack_size_others['PROD_QTY'].sum()\n",
    "\n",
    "\n",
    "packsize_young= pack_size_young_mainstream.groupby(['pack_size'])['PROD_QTY'].sum().reset_index().fillna(0).set_index('pack_size').sort_values(by= ['PROD_QTY'], ascending=False)\n",
    "packsize_young =  packsize_young/sum_qty_packsize_young\n",
    "\n",
    "\n",
    "packsize_not_young =  pack_size_others.groupby(['pack_size'])['PROD_QTY'].sum().reset_index().fillna(0).set_index('pack_size').sort_values(by= ['PROD_QTY'], ascending=False)\n",
    "\n",
    "packsize_young['Qty_others'] = packsize_not_young/sum_qty_packsize_not_young\n",
    "\n",
    "packsize_young['percent'] = (packsize_young['PROD_QTY'] / packsize_young['Qty_others'])\n",
    "\n",
    "print(packsize_young.sort_values(by= ['percent'], ascending=False))\n",
    "\n",
    "packsize_young['percent'].sort_values( ascending=False).plot(kind='bar').legend( bbox_to_anchor=(1.05, 1), loc='upper left', fontsize='medium')\n"
   ]
  },
  {
   "cell_type": "code",
   "execution_count": null,
   "metadata": {},
   "outputs": [],
   "source": []
  }
 ],
 "metadata": {
  "kernelspec": {
   "display_name": "Python 3",
   "language": "python",
   "name": "python3"
  },
  "language_info": {
   "codemirror_mode": {
    "name": "ipython",
    "version": 3
   },
   "file_extension": ".py",
   "mimetype": "text/x-python",
   "name": "python",
   "nbconvert_exporter": "python",
   "pygments_lexer": "ipython3",
   "version": "3.7.6"
  }
 },
 "nbformat": 4,
 "nbformat_minor": 4
}
